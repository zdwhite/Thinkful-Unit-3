{
  "nbformat": 4,
  "nbformat_minor": 0,
  "metadata": {
    "colab": {
      "name": "KNN classifier",
      "version": "0.3.2",
      "provenance": [],
      "include_colab_link": true
    },
    "kernelspec": {
      "name": "python3",
      "display_name": "Python 3"
    }
  },
  "cells": [
    {
      "cell_type": "markdown",
      "metadata": {
        "id": "view-in-github",
        "colab_type": "text"
      },
      "source": [
        "<a href=\"https://colab.research.google.com/github/zdwhite/Thinkful-Unit-3/blob/master/Similarity%20models/KNN_classifier.ipynb\" target=\"_parent\"><img src=\"https://colab.research.google.com/assets/colab-badge.svg\" alt=\"Open In Colab\"/></a>"
      ]
    },
    {
      "metadata": {
        "id": "0URgkQ1PV5Xz",
        "colab_type": "code",
        "colab": {}
      },
      "cell_type": "code",
      "source": [
        "import numpy as np\n",
        "import pandas as pd\n",
        "import matplotlib.pyplot as plt\n",
        "import scipy\n",
        "%matplotlib inline"
      ],
      "execution_count": 0,
      "outputs": []
    },
    {
      "metadata": {
        "id": "nvooNF-aWSAh",
        "colab_type": "code",
        "outputId": "84d94f6f-7245-46d2-f27d-991c627cf648",
        "colab": {
          "base_uri": "https://localhost:8080/",
          "height": 295
        }
      },
      "cell_type": "code",
      "source": [
        "music = pd.DataFrame()\n",
        "\n",
        "# Some data to play with.\n",
        "music['duration'] = [184, 134, 243, 186, 122, 197, 294, 382, 102, 264, \n",
        "                     205, 110, 307, 110, 397, 153, 190, 192, 210, 403,\n",
        "                     164, 198, 204, 253, 234, 190, 182, 401, 376, 102]\n",
        "music['loudness'] = [18, 34, 43, 36, 22, 9, 29, 22, 10, 24, \n",
        "                     20, 10, 17, 51, 7, 13, 19, 12, 21, 22,\n",
        "                     16, 18, 4, 23, 34, 19, 14, 11, 37, 42]\n",
        "\n",
        "# We know whether the songs in our training data are jazz or not.\n",
        "music['jazz'] = [ 1, 0, 0, 0, 1, 1, 0, 1, 1, 0,\n",
        "                  0, 1, 1, 0, 1, 1, 0, 1, 1, 1,\n",
        "                  1, 1, 1, 1, 0, 0, 1, 1, 0, 0]\n",
        "\n",
        "\n",
        "# Look at our data.\n",
        "plt.scatter(\n",
        "    music[music['jazz'] == 1].duration,\n",
        "    music[music['jazz'] == 1].loudness,\n",
        "    color='red'\n",
        ")\n",
        "plt.scatter(\n",
        "    music[music['jazz'] == 0].duration,\n",
        "    music[music['jazz'] == 0].loudness,\n",
        "    color='blue'\n",
        ")\n",
        "plt.legend(['Jazz', 'Rock'])\n",
        "plt.title('Jazz and Rock Characteristics')\n",
        "plt.xlabel('Duration')\n",
        "plt.ylabel('Loudness')\n",
        "plt.show()"
      ],
      "execution_count": 0,
      "outputs": [
        {
          "output_type": "display_data",
          "data": {
            "image/png": "[encoded data removed]",
            "text/plain": [
              "<matplotlib.figure.Figure at 0x7f61811e0470>"
            ]
          },
          "metadata": {
            "tags": []
          }
        }
      ]
    },
    {
      "metadata": {
        "id": "3D8_0fqSWR3Q",
        "colab_type": "code",
        "outputId": "c3fe10a3-e2e9-43ce-dab9-b0b56e4ca1c0",
        "colab": {
          "base_uri": "https://localhost:8080/",
          "height": 35
        }
      },
      "cell_type": "code",
      "source": [
        "from sklearn.neighbors import KNeighborsClassifier\n",
        "neighbors = KNeighborsClassifier(n_neighbors=1)\n",
        "X = music[['loudness', 'duration']]\n",
        "Y = music.jazz\n",
        "neighbors.fit(X,Y)\n",
        "\n",
        "## Predict for a song with 24 loudness that's 190 seconds long.\n",
        "neighbors.predict([[24, 190]])"
      ],
      "execution_count": 0,
      "outputs": [
        {
          "output_type": "execute_result",
          "data": {
            "text/plain": [
              "array([0])"
            ]
          },
          "metadata": {
            "tags": []
          },
          "execution_count": 3
        }
      ]
    },
    {
      "metadata": {
        "id": "A0iy4v9lWVty",
        "colab_type": "code",
        "outputId": "97f483a1-7e20-40b6-fedf-6173cc3e2b1d",
        "colab": {
          "base_uri": "https://localhost:8080/",
          "height": 54
        }
      },
      "cell_type": "code",
      "source": [
        "neighbors = KNeighborsClassifier(n_neighbors=5)\n",
        "X = music[['loudness', 'duration']]\n",
        "Y = music.jazz\n",
        "neighbors.fit(X,Y)\n",
        "\n",
        "## Predict for a 24 loudness, 190 seconds long song.\n",
        "print(neighbors.predict([[24, 190]]))\n",
        "print(neighbors.predict_proba([[24, 190]]))"
      ],
      "execution_count": 0,
      "outputs": [
        {
          "output_type": "stream",
          "text": [
            "[1]\n",
            "[[0.4 0.6]]\n"
          ],
          "name": "stdout"
        }
      ]
    },
    {
      "metadata": {
        "id": "ZrGqJNNxWXls",
        "colab_type": "code",
        "outputId": "57d62862-d62a-4a35-84ab-fbaca5ac9702",
        "colab": {
          "base_uri": "https://localhost:8080/",
          "height": 295
        }
      },
      "cell_type": "code",
      "source": [
        "# Our data. Converting from data frames to arrays for the mesh.\n",
        "X = np.array(X)\n",
        "Y = np.array(Y)\n",
        "\n",
        "# Mesh size.\n",
        "h = .5\n",
        "\n",
        "# Plot the decision boundary. We assign a color to each point in the mesh.\n",
        "x_min = X[:, 0].min() - .5\n",
        "x_max = X[:, 0].max() + .5\n",
        "y_min = X[:, 1].min() - .5\n",
        "y_max = X[:, 1].max() + .5\n",
        "xx, yy = np.meshgrid(\n",
        "    np.arange(x_min, x_max, h),\n",
        "    np.arange(y_min, y_max, h)\n",
        ")\n",
        "Z = neighbors.predict(np.c_[xx.ravel(), yy.ravel()])\n",
        "\n",
        "# Put the result into a color plot.\n",
        "Z = Z.reshape(xx.shape)\n",
        "plt.figure(1, figsize=(6, 4))\n",
        "plt.set_cmap(plt.cm.Paired)\n",
        "plt.pcolormesh(xx, yy, Z)\n",
        "\n",
        "# Add the training points to the plot.\n",
        "plt.scatter(X[:, 0], X[:, 1], c=Y)\n",
        "plt.xlabel('Loudness')\n",
        "plt.ylabel('Duration')\n",
        "plt.title('Mesh visualization')\n",
        "\n",
        "plt.xlim(xx.min(), xx.max())\n",
        "plt.ylim(yy.min(), yy.max())\n",
        "\n",
        "plt.show()"
      ],
      "execution_count": 0,
      "outputs": [
        {
          "output_type": "display_data",
          "data": {
            "image/png": "[encoded data removed]",
            "text/plain": [
              "<matplotlib.figure.Figure at 0x7f6181260a90>"
            ]
          },
          "metadata": {
            "tags": []
          }
        }
      ]
    },
    {
      "metadata": {
        "id": "fJzLP6AWW2Fj",
        "colab_type": "text"
      },
      "cell_type": "markdown",
      "source": [
        "# Challenge: Implement the Nearest Neighbor algorithm"
      ]
    },
    {
      "metadata": {
        "id": "WEhN7CyDWZky",
        "colab_type": "code",
        "colab": {}
      },
      "cell_type": "code",
      "source": [
        "# Calculate distance from input point\n",
        "\n",
        "def fit(x1,x2,df,k):\n",
        "  dist = []\n",
        "  for iter in range(len(X)) :\n",
        "    dist.append(((df[iter,1]-x1)**2+(df[iter,0]-x2)**2)**.5)\n",
        "  #print(dist)\n",
        "  music['dist']=dist\n",
        "  music.sort_values(by=['dist'],ascending=True,inplace=True)\n",
        "  \n",
        "  #print (music.iloc[0:k,2].sum())\n",
        "  if  music.iloc[0:k,2].sum()/k > .5 :\n",
        "    print ('We thinks it is Jazz')\n",
        "  if  music.iloc[0:k,2].sum()/k <.5 :\n",
        "    print ('We think it is rock')\n",
        "  \n",
        "  \n",
        "  #print(df)\n",
        "  #def KNN(x1,x2,k):\n",
        "  # Calculate distance from input point"
      ],
      "execution_count": 0,
      "outputs": []
    },
    {
      "metadata": {
        "id": "T87gZdlEghVJ",
        "colab_type": "code",
        "outputId": "a6df5e7d-cfbf-4aad-8a7e-dce4e21cf439",
        "colab": {
          "base_uri": "https://localhost:8080/",
          "height": 33
        }
      },
      "cell_type": "code",
      "source": [
        "fit(20,20,X,5)\n"
      ],
      "execution_count": 108,
      "outputs": [
        {
          "output_type": "stream",
          "text": [
            "We thinks it is Jazz\n"
          ],
          "name": "stdout"
        }
      ]
    },
    {
      "metadata": {
        "id": "9Nk9TDvAdS02",
        "colab_type": "code",
        "colab": {}
      },
      "cell_type": "code",
      "source": [
        ""
      ],
      "execution_count": 0,
      "outputs": []
    }
  ]
}