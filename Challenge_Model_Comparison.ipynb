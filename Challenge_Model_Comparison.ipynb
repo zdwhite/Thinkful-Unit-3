{
  "nbformat": 4,
  "nbformat_minor": 0,
  "metadata": {
    "colab": {
      "name": "Challenge: Model Comparison",
      "version": "0.3.2",
      "provenance": [],
      "toc_visible": true,
      "include_colab_link": true
    },
    "kernelspec": {
      "name": "python3",
      "display_name": "Python 3"
    }
  },
  "cells": [
    {
      "cell_type": "markdown",
      "metadata": {
        "id": "view-in-github",
        "colab_type": "text"
      },
      "source": [
        "<a href=\"https://colab.research.google.com/github/zdwhite/Thinkful-Unit-3/blob/master/Challenge_Model_Comparison.ipynb\" target=\"_parent\"><img src=\"https://colab.research.google.com/assets/colab-badge.svg\" alt=\"Open In Colab\"/></a>"
      ]
    },
    {
      "metadata": {
        "id": "aFe0559MvkmZ",
        "colab_type": "text"
      },
      "cell_type": "markdown",
      "source": [
        "# Problem Statement\n",
        "\n",
        "\n",
        "\n"
      ]
    },
    {
      "metadata": {
        "id": "NFtxewIGwUwW",
        "colab_type": "text"
      },
      "cell_type": "markdown",
      "source": [
        "Find a data set and build a KNN Regression and an OLS regression\n",
        "\n",
        "How similar are they? \n",
        "\n",
        "Do they miss in different ways?\n",
        "\n",
        "Try to determine whether there is a situation where you would change your mind, or whether one is unambiguously better than the other. \n",
        "\n",
        "Lastly, try to note what it is about the data that causes the better model to outperform the weaker model"
      ]
    },
    {
      "metadata": {
        "id": "oFFRMjuSyCBR",
        "colab_type": "text"
      },
      "cell_type": "markdown",
      "source": [
        "# Predicting flight cancelations"
      ]
    },
    {
      "metadata": {
        "id": "thcfGMeiwr_X",
        "colab_type": "text"
      },
      "cell_type": "markdown",
      "source": [
        "## The Data\n",
        "\n",
        "The data used for this challenge was obtained from the [Bureau of Transportation Statistic](https://www.transtats.bts.gov/DL_SelectFields.asp)\n",
        "\n",
        "For this challenge we'll be using 1 month of data as they are quite large.\n",
        "\n",
        "A flight is considered delayed when it arrives 15 or more minutes than the schedule.\n",
        "\n",
        "Delayed minutes are calculated only for flights that meet this criterium."
      ]
    },
    {
      "metadata": {
        "id": "qYqF-IMfx-c-",
        "colab_type": "text"
      },
      "cell_type": "markdown",
      "source": [
        ""
      ]
    },
    {
      "metadata": {
        "id": "A1Sc8IBWvfUL",
        "colab_type": "code",
        "colab": {}
      },
      "cell_type": "code",
      "source": [
        "import pandas as pd\n",
        "import numpy as np\n",
        "import scipy\n",
        "import matplotlib.pyplot as plt\n",
        "import sklearn\n",
        "import seaborn as sns\n",
        "%matplotlib inline\n"
      ],
      "execution_count": 0,
      "outputs": []
    },
    {
      "metadata": {
        "id": "1cbyNB1oHmFw",
        "colab_type": "code",
        "colab": {}
      },
      "cell_type": "code",
      "source": [
        "df = pd.read_csv('https://raw.githubusercontent.com/zdwhite/Thinkful-Unit-3/master/442827422_T_ONTIME_REPORTING.csv', delimiter= ',')"
      ],
      "execution_count": 0,
      "outputs": []
    },
    {
      "metadata": {
        "id": "BAIyDMNbVIUH",
        "colab_type": "code",
        "outputId": "80476b1e-b81d-4b09-f29b-6307b84dcef9",
        "colab": {
          "base_uri": "https://localhost:8080/",
          "height": 204
        }
      },
      "cell_type": "code",
      "source": [
        "#Drop unnamed column this always happens when opening excel CSVs\n",
        "df.drop('Unnamed: 9',axis=1,inplace=True)\n",
        "\n",
        "df.head()"
      ],
      "execution_count": 3,
      "outputs": [
        {
          "output_type": "execute_result",
          "data": {
            "text/html": [
              "<div>\n",
              "<style scoped>\n",
              "    .dataframe tbody tr th:only-of-type {\n",
              "        vertical-align: middle;\n",
              "    }\n",
              "\n",
              "    .dataframe tbody tr th {\n",
              "        vertical-align: top;\n",
              "    }\n",
              "\n",
              "    .dataframe thead th {\n",
              "        text-align: right;\n",
              "    }\n",
              "</style>\n",
              "<table border=\"1\" class=\"dataframe\">\n",
              "  <thead>\n",
              "    <tr style=\"text-align: right;\">\n",
              "      <th></th>\n",
              "      <th>YEAR</th>\n",
              "      <th>MONTH</th>\n",
              "      <th>DAY_OF_WEEK</th>\n",
              "      <th>OP_UNIQUE_CARRIER</th>\n",
              "      <th>ORIGIN</th>\n",
              "      <th>DEST</th>\n",
              "      <th>CANCELLED</th>\n",
              "      <th>CRS_ELAPSED_TIME</th>\n",
              "      <th>DISTANCE</th>\n",
              "    </tr>\n",
              "  </thead>\n",
              "  <tbody>\n",
              "    <tr>\n",
              "      <th>0</th>\n",
              "      <td>2018</td>\n",
              "      <td>2</td>\n",
              "      <td>4</td>\n",
              "      <td>F9</td>\n",
              "      <td>LAS</td>\n",
              "      <td>MIA</td>\n",
              "      <td>0.0</td>\n",
              "      <td>273.0</td>\n",
              "      <td>2174.0</td>\n",
              "    </tr>\n",
              "    <tr>\n",
              "      <th>1</th>\n",
              "      <td>2018</td>\n",
              "      <td>2</td>\n",
              "      <td>4</td>\n",
              "      <td>F9</td>\n",
              "      <td>LAX</td>\n",
              "      <td>DEN</td>\n",
              "      <td>0.0</td>\n",
              "      <td>140.0</td>\n",
              "      <td>862.0</td>\n",
              "    </tr>\n",
              "    <tr>\n",
              "      <th>2</th>\n",
              "      <td>2018</td>\n",
              "      <td>2</td>\n",
              "      <td>4</td>\n",
              "      <td>F9</td>\n",
              "      <td>LAS</td>\n",
              "      <td>ATL</td>\n",
              "      <td>0.0</td>\n",
              "      <td>225.0</td>\n",
              "      <td>1747.0</td>\n",
              "    </tr>\n",
              "    <tr>\n",
              "      <th>3</th>\n",
              "      <td>2018</td>\n",
              "      <td>2</td>\n",
              "      <td>4</td>\n",
              "      <td>F9</td>\n",
              "      <td>LAS</td>\n",
              "      <td>MCO</td>\n",
              "      <td>0.0</td>\n",
              "      <td>261.0</td>\n",
              "      <td>2039.0</td>\n",
              "    </tr>\n",
              "    <tr>\n",
              "      <th>4</th>\n",
              "      <td>2018</td>\n",
              "      <td>2</td>\n",
              "      <td>4</td>\n",
              "      <td>F9</td>\n",
              "      <td>DEN</td>\n",
              "      <td>MCO</td>\n",
              "      <td>0.0</td>\n",
              "      <td>215.0</td>\n",
              "      <td>1546.0</td>\n",
              "    </tr>\n",
              "  </tbody>\n",
              "</table>\n",
              "</div>"
            ],
            "text/plain": [
              "   YEAR  MONTH  DAY_OF_WEEK OP_UNIQUE_CARRIER ORIGIN DEST  CANCELLED  \\\n",
              "0  2018      2            4                F9    LAS  MIA        0.0   \n",
              "1  2018      2            4                F9    LAX  DEN        0.0   \n",
              "2  2018      2            4                F9    LAS  ATL        0.0   \n",
              "3  2018      2            4                F9    LAS  MCO        0.0   \n",
              "4  2018      2            4                F9    DEN  MCO        0.0   \n",
              "\n",
              "   CRS_ELAPSED_TIME  DISTANCE  \n",
              "0             273.0    2174.0  \n",
              "1             140.0     862.0  \n",
              "2             225.0    1747.0  \n",
              "3             261.0    2039.0  \n",
              "4             215.0    1546.0  "
            ]
          },
          "metadata": {
            "tags": []
          },
          "execution_count": 3
        }
      ]
    },
    {
      "metadata": {
        "id": "8HCyBXjYDAjw",
        "colab_type": "code",
        "colab": {
          "base_uri": "https://localhost:8080/",
          "height": 459
        },
        "outputId": "9a480c0b-c658-47c3-9c33-8c2a782c1e86"
      },
      "cell_type": "code",
      "source": [
        "##### Dealing with Null / NaN values\n",
        "print(df[df['CRS_ELAPSED_TIME'].isnull()])\n",
        "\n",
        "# There are so few NaN values lets  just take them out and not worry about it.\n",
        "\n",
        "df=df[df['CRS_ELAPSED_TIME'].notnull()]"
      ],
      "execution_count": 101,
      "outputs": [
        {
          "output_type": "stream",
          "text": [
            "        YEAR  MONTH  DAY_OF_WEEK OP_UNIQUE_CARRIER ORIGIN DEST  CANCELLED  \\\n",
            "102654  2018      2            1                YX    PHL  SAV        0.0   \n",
            "102656  2018      2            2                YX    SDF  DCA        0.0   \n",
            "102659  2018      2            1                YX    CMH  CLT        0.0   \n",
            "102660  2018      2            1                YX    EYW  CLT        0.0   \n",
            "114979  2018      2            4                YX    EWR  DTW        0.0   \n",
            "114982  2018      2            2                YX    EWR  RDU        0.0   \n",
            "114983  2018      2            3                YX    EYW  EWR        0.0   \n",
            "\n",
            "        CRS_ELAPSED_TIME  DISTANCE  Airline_Carrier_Code  Origin_Code  \\\n",
            "102654               NaN     629.0                    17          245   \n",
            "102656               NaN     474.0                    17          288   \n",
            "102659               NaN     347.0                    17           68   \n",
            "102660               NaN     736.0                    17          105   \n",
            "114979               NaN     488.0                    17          104   \n",
            "114982               NaN     416.0                    17          104   \n",
            "114983               NaN    1196.0                    17          105   \n",
            "\n",
            "        Destination_Code  \n",
            "102654               281  \n",
            "102656                84  \n",
            "102659                67  \n",
            "102660                67  \n",
            "114979                91  \n",
            "114982               267  \n",
            "114983               104  \n"
          ],
          "name": "stdout"
        }
      ]
    },
    {
      "metadata": {
        "id": "gzHegc8JC7pd",
        "colab_type": "code",
        "colab": {}
      },
      "cell_type": "code",
      "source": [
        ""
      ],
      "execution_count": 0,
      "outputs": []
    },
    {
      "metadata": {
        "id": "2bg-CysZwCLF",
        "colab_type": "text"
      },
      "cell_type": "markdown",
      "source": [
        "### Data Types\n",
        "\n"
      ]
    },
    {
      "metadata": {
        "id": "rK9yFX2mVLdB",
        "colab_type": "code",
        "outputId": "8e24a2b6-2a3c-4058-9d52-8695b0dd9b57",
        "colab": {
          "base_uri": "https://localhost:8080/",
          "height": 68
        }
      },
      "cell_type": "code",
      "source": [
        "df.columns"
      ],
      "execution_count": 4,
      "outputs": [
        {
          "output_type": "execute_result",
          "data": {
            "text/plain": [
              "Index(['YEAR', 'MONTH', 'DAY_OF_WEEK', 'OP_UNIQUE_CARRIER', 'ORIGIN', 'DEST',\n",
              "       'CANCELLED', 'CRS_ELAPSED_TIME', 'DISTANCE'],\n",
              "      dtype='object')"
            ]
          },
          "metadata": {
            "tags": []
          },
          "execution_count": 4
        }
      ]
    },
    {
      "metadata": {
        "id": "HiC_V1-_xxar",
        "colab_type": "text"
      },
      "cell_type": "markdown",
      "source": [
        "A complete description of each column header can be found [here](https://www.transtats.bts.gov/DL_SelectFields.asp)"
      ]
    },
    {
      "metadata": {
        "id": "1RjNs4l-dVLA",
        "colab_type": "text"
      },
      "cell_type": "markdown",
      "source": [
        "Looking at the columns above let's categorize them and lay out a work flow\n",
        "\n",
        "1.   Year - Integer, categorical and static\n",
        "   * Drop this column\n",
        "2. Month - Integer, categorical and static\n",
        "   * Drop this column\n",
        "3. Day of the Week, integer categorical\n",
        "   * Do Nothing\n",
        "4.  Carrier, String, Categorical\n",
        "   * This column needs to be coded to integer values\n",
        "5.   Origin - String, categorical\n",
        "   * Coded to integer values\n",
        "6.   Dest - String, categorical\n",
        "   *  Code to integer values\n",
        "7.   Cancelled - Binary (**dependant variable**)\n",
        "   *  do nothing\n",
        "8.   CRS_ELAPSED_TIME - Float - Continuous\n",
        "   * do nothing"
      ]
    },
    {
      "metadata": {
        "id": "jPM6a4dt6fDs",
        "colab_type": "text"
      },
      "cell_type": "markdown",
      "source": [
        "### Encode the categorical variables"
      ]
    },
    {
      "metadata": {
        "id": "043wp8dXJwn1",
        "colab_type": "code",
        "outputId": "65d5cae9-ac58-488b-faaa-2aa228bf4263",
        "colab": {
          "base_uri": "https://localhost:8080/",
          "height": 51
        }
      },
      "cell_type": "code",
      "source": [
        "df['OP_UNIQUE_CARRIER'].unique()"
      ],
      "execution_count": 6,
      "outputs": [
        {
          "output_type": "execute_result",
          "data": {
            "text/plain": [
              "array(['F9', 'WN', 'YV', 'YX', 'AA', 'AS', 'DL', 'UA', '9E', 'B6', 'EV',\n",
              "       'G4', 'HA', 'MQ', 'NK', 'OH', 'OO', 'VX'], dtype=object)"
            ]
          },
          "metadata": {
            "tags": []
          },
          "execution_count": 6
        }
      ]
    },
    {
      "metadata": {
        "id": "8UsApoPEOnDQ",
        "colab_type": "code",
        "colab": {
          "base_uri": "https://localhost:8080/",
          "height": 303
        },
        "outputId": "a8638e87-582b-4286-d929-65629ef8c626"
      },
      "cell_type": "code",
      "source": [
        "df.groupby('OP_UNIQUE_CARRIER').count()['YEAR'].sort_values(ascending=True).plot(kind='bar')"
      ],
      "execution_count": 13,
      "outputs": [
        {
          "output_type": "execute_result",
          "data": {
            "text/plain": [
              "<matplotlib.axes._subplots.AxesSubplot at 0x7f14c73b0400>"
            ]
          },
          "metadata": {
            "tags": []
          },
          "execution_count": 13
        },
        {
          "output_type": "display_data",
          "data": {
            "image/png": "[encoded data removed]",
            "text/plain": [
              "<matplotlib.figure.Figure at 0x7f14c73c2550>"
            ]
          },
          "metadata": {
            "tags": []
          }
        }
      ]
    },
    {
      "metadata": {
        "id": "Qx4YJA4jKHbI",
        "colab_type": "code",
        "colab": {}
      },
      "cell_type": "code",
      "source": [
        "from sklearn.preprocessing import LabelEncoder\n",
        "\n",
        "\n",
        "lb_make = LabelEncoder()\n",
        "df['Airline_Carrier_Code'] = lb_make.fit_transform(df['OP_UNIQUE_CARRIER'])\n",
        "df['Origin_Code'] = lb_make.fit_transform(df['ORIGIN'])\n",
        "df['Destination_Code'] =  lb_make.fit_transform(df['DEST'])\n",
        "\n",
        "## Something to note is that arrival airports and destination airports that are the same place will have different codes"
      ],
      "execution_count": 0,
      "outputs": []
    },
    {
      "metadata": {
        "id": "QxG3w3YN76IV",
        "colab_type": "code",
        "colab": {}
      },
      "cell_type": "code",
      "source": [
        "\n",
        "## Double check our work\n",
        "df[[\"OP_UNIQUE_CARRIER\", 'Airline_Carrier_Code']].drop_duplicates(), df[[\"ORIGIN\", 'Origin_Code']].drop_duplicates(),df[[\"DEST\", 'Destination_Code']].drop_duplicates()\n"
      ],
      "execution_count": 0,
      "outputs": []
    },
    {
      "metadata": {
        "id": "WCb--gLTJl0G",
        "colab_type": "code",
        "colab": {}
      },
      "cell_type": "code",
      "source": [
        "## Let's drop columns we don't need for the time being\n",
        "df_r=df.drop(['YEAR', 'MONTH','OP_UNIQUE_CARRIER','ORIGIN','DEST'],axis=1)\n"
      ],
      "execution_count": 0,
      "outputs": []
    },
    {
      "metadata": {
        "id": "k6iFVo_EP33J",
        "colab_type": "code",
        "colab": {}
      },
      "cell_type": "code",
      "source": [
        ""
      ],
      "execution_count": 0,
      "outputs": []
    },
    {
      "metadata": {
        "id": "nG3E88mSTVQu",
        "colab_type": "text"
      },
      "cell_type": "markdown",
      "source": [
        "##The Science"
      ]
    },
    {
      "metadata": {
        "id": "4NVr6bLZNxpj",
        "colab_type": "text"
      },
      "cell_type": "markdown",
      "source": [
        "### Data Correlation"
      ]
    },
    {
      "metadata": {
        "id": "RWGZD7rwDy4C",
        "colab_type": "code",
        "colab": {
          "base_uri": "https://localhost:8080/",
          "height": 647
        },
        "outputId": "0c3b7705-ffaf-4870-c354-daf754837f51"
      },
      "cell_type": "code",
      "source": [
        "## Get a quick sense of correlation\n",
        "f, ax = plt.subplots(figsize=(12, 9))\n",
        "corrmat = df_r.corr()\n",
        "sns.heatmap(corrmat, vmax=.8, square=True)\n"
      ],
      "execution_count": 127,
      "outputs": [
        {
          "output_type": "execute_result",
          "data": {
            "text/plain": [
              "<matplotlib.axes._subplots.AxesSubplot at 0x7f2e267697f0>"
            ]
          },
          "metadata": {
            "tags": []
          },
          "execution_count": 127
        },
        {
          "output_type": "display_data",
          "data": {
            "image/png": "[encoded data removed]",
            "text/plain": [
              "<matplotlib.figure.Figure at 0x7f2e26769e10>"
            ]
          },
          "metadata": {
            "tags": []
          }
        }
      ]
    },
    {
      "metadata": {
        "id": "411fq6V7KHry",
        "colab_type": "text"
      },
      "cell_type": "markdown",
      "source": [
        "It looks like Distance and time elapsed are highly correlated, nothing shocking here let's not combine these features just yet though."
      ]
    },
    {
      "metadata": {
        "id": "Us33zwTDEPBE",
        "colab_type": "text"
      },
      "cell_type": "markdown",
      "source": [
        "### Feature Engineering"
      ]
    },
    {
      "metadata": {
        "id": "iiLlaWW2BJce",
        "colab_type": "code",
        "colab": {}
      },
      "cell_type": "code",
      "source": [
        "### Let's use a different approach then I was thinking\n",
        "\n",
        "from sklearn.feature_selection import SelectKBest\n",
        "from sklearn.feature_selection import f_regression\n",
        "\n",
        "#Create dummy variables / features for all the categorical type data\n",
        "features = pd.get_dummies(df.loc[:,['ORIGIN','DEST','OP_UNIQUE_CARRIER']])\n",
        "\n"
      ],
      "execution_count": 0,
      "outputs": []
    },
    {
      "metadata": {
        "id": "OA_lE45iB6v6",
        "colab_type": "code",
        "colab": {}
      },
      "cell_type": "code",
      "source": [
        "features['DAY_OF_WEEK'] = df['DAY_OF_WEEK']\n",
        "features['CRS_ELAPSED_TIME'] =df['CRS_ELAPSED_TIME']\n",
        "features['DISTANCE'] = df['DISTANCE']\n",
        "\n",
        "outcome = df['CANCELLED']"
      ],
      "execution_count": 0,
      "outputs": []
    },
    {
      "metadata": {
        "id": "sFovY3g8CkSz",
        "colab_type": "code",
        "outputId": "cd0b3ecb-6948-4c98-8d6b-2f6d445abb07",
        "colab": {
          "base_uri": "https://localhost:8080/",
          "height": 100
        }
      },
      "cell_type": "code",
      "source": [
        "#Select the best features with highest K score by using f regression\n",
        "selector = SelectKBest(f_regression, k=15)\n",
        "selector.fit(features,outcome)\n",
        "\n",
        "idxs_selected = selector.get_support(indices=True)\n",
        "features[features.columns[idxs_selected]].head(1)"
      ],
      "execution_count": 0,
      "outputs": [
        {
          "output_type": "execute_result",
          "data": {
            "text/html": [
              "<div>\n",
              "<style scoped>\n",
              "    .dataframe tbody tr th:only-of-type {\n",
              "        vertical-align: middle;\n",
              "    }\n",
              "\n",
              "    .dataframe tbody tr th {\n",
              "        vertical-align: top;\n",
              "    }\n",
              "\n",
              "    .dataframe thead th {\n",
              "        text-align: right;\n",
              "    }\n",
              "</style>\n",
              "<table border=\"1\" class=\"dataframe\">\n",
              "  <thead>\n",
              "    <tr style=\"text-align: right;\">\n",
              "      <th></th>\n",
              "      <th>ORIGIN_ASE</th>\n",
              "      <th>ORIGIN_ATL</th>\n",
              "      <th>ORIGIN_MDW</th>\n",
              "      <th>ORIGIN_ORD</th>\n",
              "      <th>ORIGIN_SUN</th>\n",
              "      <th>ORIGIN_UIN</th>\n",
              "      <th>DEST_ATL</th>\n",
              "      <th>DEST_MDW</th>\n",
              "      <th>DEST_ORD</th>\n",
              "      <th>OP_UNIQUE_CARRIER_DL</th>\n",
              "      <th>OP_UNIQUE_CARRIER_MQ</th>\n",
              "      <th>OP_UNIQUE_CARRIER_OO</th>\n",
              "      <th>OP_UNIQUE_CARRIER_UA</th>\n",
              "      <th>CRS_ELAPSED_TIME</th>\n",
              "      <th>DISTANCE</th>\n",
              "    </tr>\n",
              "  </thead>\n",
              "  <tbody>\n",
              "    <tr>\n",
              "      <th>0</th>\n",
              "      <td>0</td>\n",
              "      <td>0</td>\n",
              "      <td>0</td>\n",
              "      <td>0</td>\n",
              "      <td>0</td>\n",
              "      <td>0</td>\n",
              "      <td>0</td>\n",
              "      <td>0</td>\n",
              "      <td>0</td>\n",
              "      <td>0</td>\n",
              "      <td>0</td>\n",
              "      <td>0</td>\n",
              "      <td>0</td>\n",
              "      <td>273.0</td>\n",
              "      <td>2174.0</td>\n",
              "    </tr>\n",
              "  </tbody>\n",
              "</table>\n",
              "</div>"
            ],
            "text/plain": [
              "   ORIGIN_ASE  ORIGIN_ATL  ORIGIN_MDW  ORIGIN_ORD  ORIGIN_SUN  ORIGIN_UIN  \\\n",
              "0           0           0           0           0           0           0   \n",
              "\n",
              "   DEST_ATL  DEST_MDW  DEST_ORD  OP_UNIQUE_CARRIER_DL  OP_UNIQUE_CARRIER_MQ  \\\n",
              "0         0         0         0                     0                     0   \n",
              "\n",
              "   OP_UNIQUE_CARRIER_OO  OP_UNIQUE_CARRIER_UA  CRS_ELAPSED_TIME  DISTANCE  \n",
              "0                     0                     0             273.0    2174.0  "
            ]
          },
          "metadata": {
            "tags": []
          },
          "execution_count": 104
        }
      ]
    },
    {
      "metadata": {
        "id": "y72BbBvJDTMf",
        "colab_type": "code",
        "colab": {}
      },
      "cell_type": "code",
      "source": [
        "features_best = features[features.columns[idxs_selected]]\n",
        "\n",
        "features_best"
      ],
      "execution_count": 0,
      "outputs": []
    },
    {
      "metadata": {
        "id": "uUdRodhvGnjk",
        "colab_type": "code",
        "colab": {
          "base_uri": "https://localhost:8080/",
          "height": 697
        },
        "outputId": "6c9165f1-d4c5-4977-c967-2ddcb0fdbf96"
      },
      "cell_type": "code",
      "source": [
        "#Stats Models\n",
        "import statsmodels.formula.api as smf\n",
        "x = features_best\n",
        "\n",
        "results = smf.OLS(outcome,x).fit()\n",
        "print(results.summary())"
      ],
      "execution_count": 115,
      "outputs": [
        {
          "output_type": "stream",
          "text": [
            "                            OLS Regression Results                            \n",
            "==============================================================================\n",
            "Dep. Variable:              CANCELLED   R-squared:                       0.038\n",
            "Model:                            OLS   Adj. R-squared:                  0.038\n",
            "Method:                 Least Squares   F-statistic:                     1375.\n",
            "Date:                Tue, 18 Dec 2018   Prob (F-statistic):               0.00\n",
            "Time:                        20:56:37   Log-Likelihood:             3.2848e+05\n",
            "No. Observations:              520724   AIC:                        -6.569e+05\n",
            "Df Residuals:                  520709   BIC:                        -6.568e+05\n",
            "Df Model:                          15                                         \n",
            "Covariance Type:            nonrobust                                         \n",
            "========================================================================================\n",
            "                           coef    std err          t      P>|t|      [0.025      0.975]\n",
            "----------------------------------------------------------------------------------------\n",
            "ORIGIN_ASE               0.1009      0.004     23.378      0.000       0.092       0.109\n",
            "ORIGIN_ATL              -0.0031      0.001     -3.589      0.000      -0.005      -0.001\n",
            "ORIGIN_MDW               0.0910      0.002     53.183      0.000       0.088       0.094\n",
            "ORIGIN_ORD               0.0280      0.001     31.424      0.000       0.026       0.030\n",
            "ORIGIN_SUN               0.1580      0.012     13.028      0.000       0.134       0.182\n",
            "ORIGIN_UIN               0.1861      0.015     12.247      0.000       0.156       0.216\n",
            "DEST_ATL                -0.0031      0.001     -3.550      0.000      -0.005      -0.001\n",
            "DEST_MDW                 0.0814      0.002     47.541      0.000       0.078       0.085\n",
            "DEST_ORD                 0.0274      0.001     30.671      0.000       0.026       0.029\n",
            "OP_UNIQUE_CARRIER_DL    -0.0104      0.001    -16.107      0.000      -0.012      -0.009\n",
            "OP_UNIQUE_CARRIER_MQ     0.0367      0.001     38.477      0.000       0.035       0.039\n",
            "OP_UNIQUE_CARRIER_OO     0.0055      0.001      9.020      0.000       0.004       0.007\n",
            "OP_UNIQUE_CARRIER_UA    -0.0130      0.001    -18.845      0.000      -0.014      -0.012\n",
            "CRS_ELAPSED_TIME         0.0003   6.47e-06     49.849      0.000       0.000       0.000\n",
            "DISTANCE             -4.307e-05   1.01e-06    -42.462      0.000   -4.51e-05   -4.11e-05\n",
            "==============================================================================\n",
            "Omnibus:                   648706.856   Durbin-Watson:                   1.704\n",
            "Prob(Omnibus):                  0.000   Jarque-Bera (JB):         60423075.480\n",
            "Skew:                           7.163   Prob(JB):                         0.00\n",
            "Kurtosis:                      53.790   Cond. No.                     8.50e+04\n",
            "==============================================================================\n",
            "\n",
            "Warnings:\n",
            "[1] Standard Errors assume that the covariance matrix of the errors is correctly specified.\n",
            "[2] The condition number is large, 8.5e+04. This might indicate that there are\n",
            "strong multicollinearity or other numerical problems.\n"
          ],
          "name": "stdout"
        }
      ]
    },
    {
      "metadata": {
        "id": "ra-yZtTLEuG1",
        "colab_type": "code",
        "colab": {}
      },
      "cell_type": "code",
      "source": [
        "# All the features have a pvalue less than .05 so we don't need to weed any more of them out\n",
        "#Split the data\n",
        "from sklearn.model_selection import train_test_split\n",
        "\n",
        "features_train, features_test, outcome_train, outcome_test = train_test_split(features_best, outcome, test_size=0.30)"
      ],
      "execution_count": 0,
      "outputs": []
    },
    {
      "metadata": {
        "id": "wBwc7lbbGAoo",
        "colab_type": "code",
        "colab": {
          "base_uri": "https://localhost:8080/",
          "height": 119
        },
        "outputId": "40a7b3c2-d061-4fe2-e9d0-5726682ece65"
      },
      "cell_type": "code",
      "source": [
        "from sklearn.model_selection import GridSearchCV\n",
        "from sklearn import linear_model\n",
        "\n",
        "# Instantiate and fit our model.\n",
        "regr = linear_model.LinearRegression()\n",
        "\n",
        "parameters = {'normalize':[True,False]}\n",
        "\n",
        "#Note for regression problems have to do different scoreing methods:\n",
        "grid = GridSearchCV(regr, parameters, scoring='r2', cv=5, verbose=0)\n",
        "\n",
        "\n",
        "#Fit the Data\n",
        "grid.fit(features_train, outcome_train)"
      ],
      "execution_count": 112,
      "outputs": [
        {
          "output_type": "execute_result",
          "data": {
            "text/plain": [
              "GridSearchCV(cv=5, error_score='raise-deprecating',\n",
              "       estimator=LinearRegression(copy_X=True, fit_intercept=True, n_jobs=None,\n",
              "         normalize=False),\n",
              "       fit_params=None, iid='warn', n_jobs=None,\n",
              "       param_grid={'normalize': [True, False]}, pre_dispatch='2*n_jobs',\n",
              "       refit=True, return_train_score='warn', scoring='r2', verbose=0)"
            ]
          },
          "metadata": {
            "tags": []
          },
          "execution_count": 112
        }
      ]
    },
    {
      "metadata": {
        "id": "OmaglrHqGYrc",
        "colab_type": "code",
        "colab": {
          "base_uri": "https://localhost:8080/",
          "height": 34
        },
        "outputId": "1f0df32b-f138-4934-ea74-c1c1575a278d"
      },
      "cell_type": "code",
      "source": [
        "grid.best_score_"
      ],
      "execution_count": 113,
      "outputs": [
        {
          "output_type": "execute_result",
          "data": {
            "text/plain": [
              "0.022717997148446672"
            ]
          },
          "metadata": {
            "tags": []
          },
          "execution_count": 113
        }
      ]
    },
    {
      "metadata": {
        "id": "kiAJngf-IvRD",
        "colab_type": "code",
        "colab": {
          "base_uri": "https://localhost:8080/",
          "height": 221
        },
        "outputId": "7bf097da-c29f-41ef-8804-c1e935149ca7"
      },
      "cell_type": "code",
      "source": [
        "## Test this flower of a model on the test set \n",
        "\n",
        "#Test Data with validation holdout\n",
        "#Inspect the results.\n",
        "print('\\nCoefficients: \\n', grid.best_estimator_.coef_)\n",
        "print('\\nIntercept: \\n', grid.best_estimator_.intercept_)\n",
        "print('\\nR-squared:')\n",
        "print(grid.score(features_test, outcome_test))"
      ],
      "execution_count": 116,
      "outputs": [
        {
          "output_type": "stream",
          "text": [
            "\n",
            "Coefficients: \n",
            " [ 9.34752330e-02 -5.60333115e-03  9.25198130e-02  2.72368851e-02\n",
            "  1.49137417e-01  1.75149091e-01 -6.01119024e-03  7.90960177e-02\n",
            "  2.82002662e-02 -9.96602357e-03  3.31950855e-02  4.23637641e-03\n",
            " -1.34148779e-02  8.31916213e-05 -1.73061185e-05]\n",
            "\n",
            "Intercept: \n",
            " 0.01563989699917809\n",
            "\n",
            "R-squared:\n",
            "0.02128220973727868\n"
          ],
          "name": "stdout"
        }
      ]
    },
    {
      "metadata": {
        "id": "LoeAS93rJMqh",
        "colab_type": "text"
      },
      "cell_type": "markdown",
      "source": [
        "While this model is not very accurate it is however precise in it's inaccuracy, as it didn't change much when comparing to our test set."
      ]
    },
    {
      "metadata": {
        "id": "5akxh4DaEGFh",
        "colab_type": "code",
        "colab": {}
      },
      "cell_type": "code",
      "source": [
        ""
      ],
      "execution_count": 0,
      "outputs": []
    },
    {
      "metadata": {
        "id": "qShbwhqyN2PJ",
        "colab_type": "text"
      },
      "cell_type": "markdown",
      "source": [
        "### Linear Regression"
      ]
    },
    {
      "metadata": {
        "id": "X5nuqXv7PNyq",
        "colab_type": "code",
        "colab": {}
      },
      "cell_type": "code",
      "source": [
        "# We want to create two regression models first the linear model\n",
        "import math\n",
        "\n",
        "import statsmodels.formula.api as smf\n",
        "from statsmodels.sandbox.regression.predstd import wls_prediction_std\n",
        "linear_formula = 'CANCELLED ~ DAY_OF_WEEK+CRS_ELAPSED_TIME+DISTANCE+Airline_Carrier_Code+Origin_Code+Destination_Code'\n",
        "\n",
        "lm = smf.ols(formula=linear_formula, data=df_r).fit()\n"
      ],
      "execution_count": 0,
      "outputs": []
    },
    {
      "metadata": {
        "id": "YE3uHGnuvEuv",
        "colab_type": "code",
        "outputId": "b775c6da-7c53-4d15-91ac-6eae0541d4e2",
        "colab": {
          "base_uri": "https://localhost:8080/",
          "height": 374
        }
      },
      "cell_type": "code",
      "source": [
        "print('Parameters:\\n',lm.params,'\\n\\nP-Values:\\n',lm.pvalues,'\\n\\nR-Squared:',lm.rsquared)\n",
        "\n"
      ],
      "execution_count": 90,
      "outputs": [
        {
          "output_type": "stream",
          "text": [
            "Parameters:\n",
            " Intercept               1.105431e-02\n",
            "DAY_OF_WEEK             1.013753e-03\n",
            "CRS_ELAPSED_TIME        1.024117e-04\n",
            "DISTANCE               -2.248886e-05\n",
            "Airline_Carrier_Code    5.849447e-04\n",
            "Origin_Code             1.973028e-06\n",
            "Destination_Code       -4.751313e-07\n",
            "dtype: float64 \n",
            "\n",
            "P-Values:\n",
            " Intercept               9.950229e-34\n",
            "DAY_OF_WEEK             6.706119e-29\n",
            "CRS_ELAPSED_TIME        3.766654e-18\n",
            "DISTANCE                1.024514e-52\n",
            "Airline_Carrier_Code    2.622423e-71\n",
            "Origin_Code             3.239648e-01\n",
            "Destination_Code        8.113957e-01\n",
            "dtype: float64 \n",
            "\n",
            "R-Squared: 0.003259479093594808\n"
          ],
          "name": "stdout"
        }
      ]
    },
    {
      "metadata": {
        "id": "172KXCqUMNCp",
        "colab_type": "text"
      },
      "cell_type": "markdown",
      "source": [
        "Evaluting our Pvalues it seems like Origin Code and Destination code may not provide much additional information.\n",
        "\n",
        "Our linear model is having a tough time explaining much of anything on our first pass."
      ]
    },
    {
      "metadata": {
        "id": "udpOQvN0pUMX",
        "colab_type": "code",
        "colab": {
          "base_uri": "https://localhost:8080/",
          "height": 306
        },
        "outputId": "c826058a-860b-4a4d-8891-4eb6c7a57958"
      },
      "cell_type": "code",
      "source": [
        "linear_formula = 'CANCELLED ~ DAY_OF_WEEK+CRS_ELAPSED_TIME+DISTANCE+Airline_Carrier_Code'\n",
        "\n",
        "lm = smf.ols(formula=linear_formula, data=df_r).fit()\n",
        "print('Parameters:\\n',lm.params,'\\n\\nP-Values:\\n',lm.pvalues,'\\n\\nR-Squared:',lm.rsquared)\n",
        "\n"
      ],
      "execution_count": 129,
      "outputs": [
        {
          "output_type": "stream",
          "text": [
            "Parameters:\n",
            " Intercept               0.011349\n",
            "DAY_OF_WEEK             0.001014\n",
            "CRS_ELAPSED_TIME        0.000101\n",
            "DISTANCE               -0.000022\n",
            "Airline_Carrier_Code    0.000586\n",
            "dtype: float64 \n",
            "\n",
            "P-Values:\n",
            " Intercept               8.242975e-45\n",
            "DAY_OF_WEEK             6.650567e-29\n",
            "CRS_ELAPSED_TIME        5.704410e-18\n",
            "DISTANCE                6.970036e-53\n",
            "Airline_Carrier_Code    5.106482e-72\n",
            "dtype: float64 \n",
            "\n",
            "R-Squared: 0.0032575152860431222\n"
          ],
          "name": "stdout"
        }
      ]
    },
    {
      "metadata": {
        "id": "aUSUxxuWNqDN",
        "colab_type": "text"
      },
      "cell_type": "markdown",
      "source": [
        "A linear model just may not work here let's take a first pass with KNN for now this model is so bad at describing the variance of our data we'll hold off testing it's predictive \"prowess\"\n"
      ]
    },
    {
      "metadata": {
        "id": "0KuDAiu8NvoF",
        "colab_type": "text"
      },
      "cell_type": "markdown",
      "source": [
        "### KNN Regression"
      ]
    },
    {
      "metadata": {
        "id": "-5Bys_GjPKMj",
        "colab_type": "text"
      },
      "cell_type": "markdown",
      "source": [
        "#### Non-Weighted"
      ]
    },
    {
      "metadata": {
        "id": "queLkDhyNuUb",
        "colab_type": "code",
        "colab": {
          "base_uri": "https://localhost:8080/",
          "height": 68
        },
        "outputId": "2fe2cb22-5311-4150-9de6-38310a924403"
      },
      "cell_type": "code",
      "source": [
        "from sklearn import neighbors\n",
        "\n",
        "\n",
        "\n",
        "knn = neighbors.KNeighborsRegressor(n_neighbors=10)\n",
        "X=df_r.loc[:,df_r.columns !='CANCELLED']\n",
        "Y=df_r['CANCELLED']\n",
        "knn.fit(X, Y)\n",
        "\n",
        "print('\\nR-squared:')\n",
        "print(knn.score(X, Y))\n"
      ],
      "execution_count": 121,
      "outputs": [
        {
          "output_type": "stream",
          "text": [
            "\n",
            "R-squared:\n",
            "0.1257693187131832\n"
          ],
          "name": "stdout"
        }
      ]
    },
    {
      "metadata": {
        "id": "e17Gf-izSmBD",
        "colab_type": "text"
      },
      "cell_type": "markdown",
      "source": [
        "While this regression in the grand scheme of things isn't a great model it is better let's tweak this regression and see if we can make it perform a little  better.\n",
        "\n",
        "First let's change to One-Hot encoding"
      ]
    },
    {
      "metadata": {
        "id": "XepiLeAdKcsL",
        "colab_type": "code",
        "colab": {}
      },
      "cell_type": "code",
      "source": [
        "from sklearn import neighbors\n",
        "\n",
        "\n",
        "\n",
        "knn = neighbors.KNeighborsRegressor(n_neighbors=10)\n",
        "X=df_r.loc[:,df_r.columns !='CANCELLED']\n",
        "Y=df_r['CANCELLED']\n",
        "knn.fit(X, Y)\n",
        "\n",
        "print('\\nR-squared:')\n",
        "print(knn.score(X, Y))"
      ],
      "execution_count": 0,
      "outputs": []
    },
    {
      "metadata": {
        "id": "k3ZcpgvGffhf",
        "colab_type": "text"
      },
      "cell_type": "markdown",
      "source": [
        "#### One Hot Encoding"
      ]
    },
    {
      "metadata": {
        "id": "9LXzHMI5hsst",
        "colab_type": "text"
      },
      "cell_type": "markdown",
      "source": [
        "Running into memory errors as there are so many columns from our one hot encoding, let's try eliminting some and see what happens"
      ]
    },
    {
      "metadata": {
        "id": "EUYuSEijbUh1",
        "colab_type": "code",
        "colab": {
          "base_uri": "https://localhost:8080/",
          "height": 253
        },
        "outputId": "58426abe-c890-4016-8c36-97db51232814"
      },
      "cell_type": "code",
      "source": [
        "df_knn=df[df['CRS_ELAPSED_TIME'].notnull()].drop(['DEST'],axis=1)\n",
        "\n",
        "df_knn=pd.get_dummies(df_knn)\n",
        "\n",
        "df_knn.head()"
      ],
      "execution_count": 45,
      "outputs": [
        {
          "output_type": "execute_result",
          "data": {
            "text/html": [
              "<div>\n",
              "<style scoped>\n",
              "    .dataframe tbody tr th:only-of-type {\n",
              "        vertical-align: middle;\n",
              "    }\n",
              "\n",
              "    .dataframe tbody tr th {\n",
              "        vertical-align: top;\n",
              "    }\n",
              "\n",
              "    .dataframe thead th {\n",
              "        text-align: right;\n",
              "    }\n",
              "</style>\n",
              "<table border=\"1\" class=\"dataframe\">\n",
              "  <thead>\n",
              "    <tr style=\"text-align: right;\">\n",
              "      <th></th>\n",
              "      <th>YEAR</th>\n",
              "      <th>MONTH</th>\n",
              "      <th>DAY_OF_WEEK</th>\n",
              "      <th>CANCELLED</th>\n",
              "      <th>CRS_ELAPSED_TIME</th>\n",
              "      <th>DISTANCE</th>\n",
              "      <th>OP_UNIQUE_CARRIER_9E</th>\n",
              "      <th>OP_UNIQUE_CARRIER_AA</th>\n",
              "      <th>OP_UNIQUE_CARRIER_AS</th>\n",
              "      <th>OP_UNIQUE_CARRIER_B6</th>\n",
              "      <th>...</th>\n",
              "      <th>ORIGIN_TYR</th>\n",
              "      <th>ORIGIN_TYS</th>\n",
              "      <th>ORIGIN_UIN</th>\n",
              "      <th>ORIGIN_USA</th>\n",
              "      <th>ORIGIN_VLD</th>\n",
              "      <th>ORIGIN_VPS</th>\n",
              "      <th>ORIGIN_WRG</th>\n",
              "      <th>ORIGIN_XNA</th>\n",
              "      <th>ORIGIN_YAK</th>\n",
              "      <th>ORIGIN_YUM</th>\n",
              "    </tr>\n",
              "  </thead>\n",
              "  <tbody>\n",
              "    <tr>\n",
              "      <th>0</th>\n",
              "      <td>2018</td>\n",
              "      <td>2</td>\n",
              "      <td>4</td>\n",
              "      <td>0.0</td>\n",
              "      <td>273.0</td>\n",
              "      <td>2174.0</td>\n",
              "      <td>0</td>\n",
              "      <td>0</td>\n",
              "      <td>0</td>\n",
              "      <td>0</td>\n",
              "      <td>...</td>\n",
              "      <td>0</td>\n",
              "      <td>0</td>\n",
              "      <td>0</td>\n",
              "      <td>0</td>\n",
              "      <td>0</td>\n",
              "      <td>0</td>\n",
              "      <td>0</td>\n",
              "      <td>0</td>\n",
              "      <td>0</td>\n",
              "      <td>0</td>\n",
              "    </tr>\n",
              "    <tr>\n",
              "      <th>1</th>\n",
              "      <td>2018</td>\n",
              "      <td>2</td>\n",
              "      <td>4</td>\n",
              "      <td>0.0</td>\n",
              "      <td>140.0</td>\n",
              "      <td>862.0</td>\n",
              "      <td>0</td>\n",
              "      <td>0</td>\n",
              "      <td>0</td>\n",
              "      <td>0</td>\n",
              "      <td>...</td>\n",
              "      <td>0</td>\n",
              "      <td>0</td>\n",
              "      <td>0</td>\n",
              "      <td>0</td>\n",
              "      <td>0</td>\n",
              "      <td>0</td>\n",
              "      <td>0</td>\n",
              "      <td>0</td>\n",
              "      <td>0</td>\n",
              "      <td>0</td>\n",
              "    </tr>\n",
              "    <tr>\n",
              "      <th>2</th>\n",
              "      <td>2018</td>\n",
              "      <td>2</td>\n",
              "      <td>4</td>\n",
              "      <td>0.0</td>\n",
              "      <td>225.0</td>\n",
              "      <td>1747.0</td>\n",
              "      <td>0</td>\n",
              "      <td>0</td>\n",
              "      <td>0</td>\n",
              "      <td>0</td>\n",
              "      <td>...</td>\n",
              "      <td>0</td>\n",
              "      <td>0</td>\n",
              "      <td>0</td>\n",
              "      <td>0</td>\n",
              "      <td>0</td>\n",
              "      <td>0</td>\n",
              "      <td>0</td>\n",
              "      <td>0</td>\n",
              "      <td>0</td>\n",
              "      <td>0</td>\n",
              "    </tr>\n",
              "    <tr>\n",
              "      <th>3</th>\n",
              "      <td>2018</td>\n",
              "      <td>2</td>\n",
              "      <td>4</td>\n",
              "      <td>0.0</td>\n",
              "      <td>261.0</td>\n",
              "      <td>2039.0</td>\n",
              "      <td>0</td>\n",
              "      <td>0</td>\n",
              "      <td>0</td>\n",
              "      <td>0</td>\n",
              "      <td>...</td>\n",
              "      <td>0</td>\n",
              "      <td>0</td>\n",
              "      <td>0</td>\n",
              "      <td>0</td>\n",
              "      <td>0</td>\n",
              "      <td>0</td>\n",
              "      <td>0</td>\n",
              "      <td>0</td>\n",
              "      <td>0</td>\n",
              "      <td>0</td>\n",
              "    </tr>\n",
              "    <tr>\n",
              "      <th>4</th>\n",
              "      <td>2018</td>\n",
              "      <td>2</td>\n",
              "      <td>4</td>\n",
              "      <td>0.0</td>\n",
              "      <td>215.0</td>\n",
              "      <td>1546.0</td>\n",
              "      <td>0</td>\n",
              "      <td>0</td>\n",
              "      <td>0</td>\n",
              "      <td>0</td>\n",
              "      <td>...</td>\n",
              "      <td>0</td>\n",
              "      <td>0</td>\n",
              "      <td>0</td>\n",
              "      <td>0</td>\n",
              "      <td>0</td>\n",
              "      <td>0</td>\n",
              "      <td>0</td>\n",
              "      <td>0</td>\n",
              "      <td>0</td>\n",
              "      <td>0</td>\n",
              "    </tr>\n",
              "  </tbody>\n",
              "</table>\n",
              "<p>5 rows × 360 columns</p>\n",
              "</div>"
            ],
            "text/plain": [
              "   YEAR  MONTH  DAY_OF_WEEK  CANCELLED  CRS_ELAPSED_TIME  DISTANCE  \\\n",
              "0  2018      2            4        0.0             273.0    2174.0   \n",
              "1  2018      2            4        0.0             140.0     862.0   \n",
              "2  2018      2            4        0.0             225.0    1747.0   \n",
              "3  2018      2            4        0.0             261.0    2039.0   \n",
              "4  2018      2            4        0.0             215.0    1546.0   \n",
              "\n",
              "   OP_UNIQUE_CARRIER_9E  OP_UNIQUE_CARRIER_AA  OP_UNIQUE_CARRIER_AS  \\\n",
              "0                     0                     0                     0   \n",
              "1                     0                     0                     0   \n",
              "2                     0                     0                     0   \n",
              "3                     0                     0                     0   \n",
              "4                     0                     0                     0   \n",
              "\n",
              "   OP_UNIQUE_CARRIER_B6     ...      ORIGIN_TYR  ORIGIN_TYS  ORIGIN_UIN  \\\n",
              "0                     0     ...               0           0           0   \n",
              "1                     0     ...               0           0           0   \n",
              "2                     0     ...               0           0           0   \n",
              "3                     0     ...               0           0           0   \n",
              "4                     0     ...               0           0           0   \n",
              "\n",
              "   ORIGIN_USA  ORIGIN_VLD  ORIGIN_VPS  ORIGIN_WRG  ORIGIN_XNA  ORIGIN_YAK  \\\n",
              "0           0           0           0           0           0           0   \n",
              "1           0           0           0           0           0           0   \n",
              "2           0           0           0           0           0           0   \n",
              "3           0           0           0           0           0           0   \n",
              "4           0           0           0           0           0           0   \n",
              "\n",
              "   ORIGIN_YUM  \n",
              "0           0  \n",
              "1           0  \n",
              "2           0  \n",
              "3           0  \n",
              "4           0  \n",
              "\n",
              "[5 rows x 360 columns]"
            ]
          },
          "metadata": {
            "tags": []
          },
          "execution_count": 45
        }
      ]
    },
    {
      "metadata": {
        "id": "thAaQaIsfpff",
        "colab_type": "code",
        "colab": {
          "base_uri": "https://localhost:8080/",
          "height": 68
        },
        "outputId": "f9aae88e-aa6d-48f8-832b-612da3080874"
      },
      "cell_type": "code",
      "source": [
        "from sklearn import neighbors\n",
        "knn = neighbors.KNeighborsRegressor(n_neighbors=10)\n",
        "X=df_knn.loc[:,df_knn.columns !='CANCELLED']\n",
        "Y=df_knn['CANCELLED']\n",
        "knn.fit(X, Y)\n",
        "\n",
        "print('\\nR-squared:')\n",
        "print(knn.score(X, Y))"
      ],
      "execution_count": 46,
      "outputs": [
        {
          "output_type": "stream",
          "text": [
            "\n",
            "R-squared:\n",
            "0.12431941506986388\n"
          ],
          "name": "stdout"
        }
      ]
    },
    {
      "metadata": {
        "id": "_rU1d39_OURg",
        "colab_type": "code",
        "colab": {}
      },
      "cell_type": "code",
      "source": [
        ""
      ],
      "execution_count": 0,
      "outputs": []
    },
    {
      "metadata": {
        "id": "bqiwR8fyTKm9",
        "colab_type": "text"
      },
      "cell_type": "markdown",
      "source": [
        "#### Optimized KNN Regression"
      ]
    },
    {
      "metadata": {
        "id": "1dHORKfwOTbt",
        "colab_type": "code",
        "colab": {}
      },
      "cell_type": "code",
      "source": [
        "from sklearn.model_selection import GridSearchCV\n",
        "\n",
        "#X=df_r.loc[:,df_r.columns !='CANCELLED']\n",
        "X=df_r.loc[:,'CRS_ELAPSED_TIME',\t'DISTANCE']\n",
        "Y=df_r['CANCELLED']\n",
        "\n",
        "knn = neighbors.KNeighborsRegressor()\n",
        "\n",
        "parameters = {\n",
        "    'n_neighbors':np.arange(11, 102, 5),\n",
        "    'weights':['uniform','distance']\n",
        "}\n",
        "\n",
        "grid = GridSearchCV(knn, parameters, scoring='r2', cv=5, verbose=0)\n",
        "#Fit the Data\n",
        "grid.fit(X, Y)"
      ],
      "execution_count": 0,
      "outputs": []
    },
    {
      "metadata": {
        "id": "li32bsTsOUc1",
        "colab_type": "code",
        "colab": {}
      },
      "cell_type": "code",
      "source": [
        "grid.best_params_"
      ],
      "execution_count": 0,
      "outputs": []
    },
    {
      "metadata": {
        "id": "StqPSA8hO9Ql",
        "colab_type": "code",
        "colab": {
          "base_uri": "https://localhost:8080/",
          "height": 163
        },
        "outputId": "2731fccc-d295-4402-88b0-4caadafa0d65"
      },
      "cell_type": "code",
      "source": [
        "df_r.loc[:,'CRS_ELAPSED_TIME',\t'DISTANCE']"
      ],
      "execution_count": 44,
      "outputs": [
        {
          "output_type": "error",
          "ename": "NameError",
          "evalue": "ignored",
          "traceback": [
            "\u001b[0;31m---------------------------------------------------------------------------\u001b[0m",
            "\u001b[0;31mNameError\u001b[0m                                 Traceback (most recent call last)",
            "\u001b[0;32m<ipython-input-44-a544389c7d73>\u001b[0m in \u001b[0;36m<module>\u001b[0;34m()\u001b[0m\n\u001b[0;32m----> 1\u001b[0;31m \u001b[0mdf_r\u001b[0m\u001b[0;34m.\u001b[0m\u001b[0mloc\u001b[0m\u001b[0;34m[\u001b[0m\u001b[0;34m:\u001b[0m\u001b[0;34m,\u001b[0m\u001b[0;34m'CRS_ELAPSED_TIME'\u001b[0m\u001b[0;34m,\u001b[0m  \u001b[0;34m'DISTANCE'\u001b[0m\u001b[0;34m]\u001b[0m\u001b[0;34m\u001b[0m\u001b[0;34m\u001b[0m\u001b[0m\n\u001b[0m",
            "\u001b[0;31mNameError\u001b[0m: name 'df_r' is not defined"
          ]
        }
      ]
    },
    {
      "metadata": {
        "id": "YyIzb8H3LENl",
        "colab_type": "code",
        "colab": {
          "base_uri": "https://localhost:8080/",
          "height": 68
        },
        "outputId": "23318fa3-4b5d-48b8-c352-6079ccd7e761"
      },
      "cell_type": "code",
      "source": [
        "np.arange(11, 102, 5)"
      ],
      "execution_count": 42,
      "outputs": [
        {
          "output_type": "execute_result",
          "data": {
            "text/plain": [
              "array([  121,   256,   441,   676,   961,  1296,  1681,  2116,  2601,\n",
              "        3136,  3721,  4356,  5041,  5776,  6561,  7396,  8281,  9216,\n",
              "       10201])"
            ]
          },
          "metadata": {
            "tags": []
          },
          "execution_count": 42
        }
      ]
    },
    {
      "metadata": {
        "id": "q1MRdAMBAP6g",
        "colab_type": "code",
        "colab": {}
      },
      "cell_type": "code",
      "source": [
        ""
      ],
      "execution_count": 0,
      "outputs": []
    },
    {
      "metadata": {
        "id": "u2cwfnQ43ESa",
        "colab_type": "code",
        "outputId": "e459179c-63c3-4d05-f7b7-4383a8a206f0",
        "colab": {
          "base_uri": "https://localhost:8080/",
          "height": 35
        }
      },
      "cell_type": "code",
      "source": [
        "df_ac=df.groupby(['OP_UNIQUE_CARRIER','CANCELLED']).count()['YEAR'].reset_index()\n",
        "\n",
        "df_ac[df_ac['CANCELLED']==1].YEAR.sum()/(df_ac[df_ac['CANCELLED']==1].YEAR.sum()+df_ac[df_ac['CANCELLED']==0].YEAR.sum())*100"
      ],
      "execution_count": 0,
      "outputs": [
        {
          "output_type": "execute_result",
          "data": {
            "text/plain": [
              "1.7237306786037319"
            ]
          },
          "metadata": {
            "tags": []
          },
          "execution_count": 58
        }
      ]
    },
    {
      "metadata": {
        "id": "3_p4M0Yx4s7q",
        "colab_type": "text"
      },
      "cell_type": "markdown",
      "source": [
        "We have a possible problem with class imbalance here.\n",
        "\n",
        "The percentage of canceled flight for the entire month is ~ 1.7%\n",
        "\n",
        "Instead of a generalized model, lets look for the highest rate of canceled occurance in a specific categorization and creat a model off of that subset."
      ]
    },
    {
      "metadata": {
        "id": "DR0U8FZn2-yl",
        "colab_type": "code",
        "outputId": "c2c2d18f-8fcf-47a6-8aa5-1d273242cd09",
        "colab": {
          "base_uri": "https://localhost:8080/",
          "height": 290
        }
      },
      "cell_type": "code",
      "source": [
        "df_dc = df.groupby(['DAY_OF_WEEK','CANCELLED']).count()['YEAR'].reset_index()\n",
        "\n",
        "df_dc[df_dc['CANCELLED']==1]['YEAR'],df_dc[df_dc['CANCELLED']==0]['YEAR']"
      ],
      "execution_count": 0,
      "outputs": [
        {
          "output_type": "execute_result",
          "data": {
            "text/plain": [
              "(1     1035\n",
              " 3     1148\n",
              " 5     1596\n",
              " 7     1086\n",
              " 9     1807\n",
              " 11     619\n",
              " 13    1685\n",
              " Name: YEAR, dtype: int64, 0     77633\n",
              " 2     74458\n",
              " 4     74487\n",
              " 6     77618\n",
              " 8     77435\n",
              " 10    60746\n",
              " 12    69378\n",
              " Name: YEAR, dtype: int64)"
            ]
          },
          "metadata": {
            "tags": []
          },
          "execution_count": 83
        }
      ]
    },
    {
      "metadata": {
        "id": "KPpKux0pTdLd",
        "colab_type": "code",
        "outputId": "0d6be103-83c7-4f94-999f-5135ed79cbd3",
        "colab": {
          "base_uri": "https://localhost:8080/",
          "height": 314
        }
      },
      "cell_type": "code",
      "source": [
        "df.groupby('ORIGIN').count()['YEAR'].sort_values(ascending=True).plot(kind='bar')"
      ],
      "execution_count": 0,
      "outputs": [
        {
          "output_type": "execute_result",
          "data": {
            "text/plain": [
              "<matplotlib.axes._subplots.AxesSubplot at 0x7f9c5aef7400>"
            ]
          },
          "metadata": {
            "tags": []
          },
          "execution_count": 5
        },
        {
          "output_type": "display_data",
          "data": {
            "image/png": "[encoded data removed]",
            "text/plain": [
              "<matplotlib.figure.Figure at 0x7f9c5b3d0b70>"
            ]
          },
          "metadata": {
            "tags": []
          }
        }
      ]
    },
    {
      "metadata": {
        "id": "UxF7gJdjTlmh",
        "colab_type": "text"
      },
      "cell_type": "markdown",
      "source": [
        "Looks like there are a lot of flights from airports with very low representation with in the data, lets get rid of these."
      ]
    },
    {
      "metadata": {
        "id": "Cufo2WXQ6-Z4",
        "colab_type": "code",
        "outputId": "b6827698-dd0d-4923-da57-764b9b2ef04b",
        "colab": {
          "base_uri": "https://localhost:8080/",
          "height": 181
        }
      },
      "cell_type": "code",
      "source": [
        "df.groupby('ORIGIN').count()['YEAR'].sort_values(ascending=True).describe()"
      ],
      "execution_count": 0,
      "outputs": [
        {
          "output_type": "execute_result",
          "data": {
            "text/plain": [
              "count      336.000000\n",
              "mean      1549.794643\n",
              "std       3583.880881\n",
              "min          8.000000\n",
              "25%         77.750000\n",
              "50%        252.500000\n",
              "75%        968.750000\n",
              "max      28125.000000\n",
              "Name: YEAR, dtype: float64"
            ]
          },
          "metadata": {
            "tags": []
          },
          "execution_count": 29
        }
      ]
    },
    {
      "metadata": {
        "id": "nkPR8I0L4zrT",
        "colab_type": "code",
        "outputId": "1802956b-afca-4d87-88bc-b0a13d21b00c",
        "colab": {
          "base_uri": "https://localhost:8080/",
          "height": 314
        }
      },
      "cell_type": "code",
      "source": [
        "test=df.groupby('ORIGIN').count().sort_values(by='YEAR',ascending=True)\n",
        "\n",
        "test[test['YEAR']>1000]['YEAR'].plot(kind='bar')\n",
        "\n"
      ],
      "execution_count": 0,
      "outputs": [
        {
          "output_type": "execute_result",
          "data": {
            "text/plain": [
              "<matplotlib.axes._subplots.AxesSubplot at 0x7f9c5721b390>"
            ]
          },
          "metadata": {
            "tags": []
          },
          "execution_count": 14
        },
        {
          "output_type": "display_data",
          "data": {
            "image/png": "[encoded data removed]",
            "text/plain": [
              "<matplotlib.figure.Figure at 0x7f9c5722c358>"
            ]
          },
          "metadata": {
            "tags": []
          }
        }
      ]
    },
    {
      "metadata": {
        "id": "qVMfVYdtt7sN",
        "colab_type": "code",
        "outputId": "0fead42b-8b98-4ab1-a050-349f36389569",
        "colab": {
          "base_uri": "https://localhost:8080/",
          "height": 354
        }
      },
      "cell_type": "code",
      "source": [
        "sns.boxplot(test[test['YEAR']>1000]['YEAR'])\n",
        "\n"
      ],
      "execution_count": 0,
      "outputs": [
        {
          "output_type": "stream",
          "text": [
            "82\n"
          ],
          "name": "stdout"
        },
        {
          "output_type": "stream",
          "text": [
            "/usr/local/lib/python3.6/dist-packages/seaborn/categorical.py:454: FutureWarning: remove_na is deprecated and is a private function. Do not use.\n",
            "  box_data = remove_na(group_data)\n"
          ],
          "name": "stderr"
        },
        {
          "output_type": "display_data",
          "data": {
            "image/png": "[encoded data removed]",
            "text/plain": [
              "<matplotlib.figure.Figure at 0x7f9c575127f0>"
            ]
          },
          "metadata": {
            "tags": []
          }
        }
      ]
    },
    {
      "metadata": {
        "id": "DH0DlNaRUKU9",
        "colab_type": "code",
        "outputId": "6ae4c118-0cb0-4cab-8f06-92ef9b65482a",
        "colab": {
          "base_uri": "https://localhost:8080/",
          "height": 354
        }
      },
      "cell_type": "code",
      "source": [
        "sns.boxplot(df.groupby('ORIGIN').count().sort_values(by = 'YEAR',ascending=True)['YEAR'])"
      ],
      "execution_count": 0,
      "outputs": [
        {
          "output_type": "stream",
          "text": [
            "/usr/local/lib/python3.6/dist-packages/seaborn/categorical.py:454: FutureWarning: remove_na is deprecated and is a private function. Do not use.\n",
            "  box_data = remove_na(group_data)\n"
          ],
          "name": "stderr"
        },
        {
          "output_type": "execute_result",
          "data": {
            "text/plain": [
              "<matplotlib.axes._subplots.AxesSubplot at 0x7f14c670d7f0>"
            ]
          },
          "metadata": {
            "tags": []
          },
          "execution_count": 35
        },
        {
          "output_type": "display_data",
          "data": {
            "image/png": "[encoded data removed]",
            "text/plain": [
              "<matplotlib.figure.Figure at 0x7f14c677cb70>"
            ]
          },
          "metadata": {
            "tags": []
          }
        }
      ]
    },
    {
      "metadata": {
        "id": "76Lh4poG7dXi",
        "colab_type": "code",
        "colab": {}
      },
      "cell_type": "code",
      "source": [
        "df.groupby(['ORIGIN','CANCELLED']).count()['YEAR']"
      ],
      "execution_count": 0,
      "outputs": []
    },
    {
      "metadata": {
        "id": "gHLhuLXF904p",
        "colab_type": "code",
        "colab": {}
      },
      "cell_type": "code",
      "source": [
        "df.groupby(['OP_UNIQUE_CARRIER','CANCELLED']).count()['YEAR'].reset_index()"
      ],
      "execution_count": 0,
      "outputs": []
    },
    {
      "metadata": {
        "id": "0QqCKy4Cv8su",
        "colab_type": "code",
        "outputId": "8bbc535b-11ec-40c8-ab86-0a7ce0fff24a",
        "colab": {
          "base_uri": "https://localhost:8080/",
          "height": 291
        }
      },
      "cell_type": "code",
      "source": [
        "df_oc=pd.DataFrame(df.groupby(['ORIGIN','CANCELLED']).count()['YEAR']).reset_index()\n",
        "\n",
        "df_oc[df_oc['CANCELLED']==1].sort_values(by = 'YEAR', ascending = True)['YEAR'].plot(kind='bar')"
      ],
      "execution_count": 0,
      "outputs": [
        {
          "output_type": "execute_result",
          "data": {
            "text/plain": [
              "<matplotlib.axes._subplots.AxesSubplot at 0x7f9c56325e80>"
            ]
          },
          "metadata": {
            "tags": []
          },
          "execution_count": 37
        },
        {
          "output_type": "display_data",
          "data": {
            "image/png": "[encoded data removed]",
            "text/plain": [
              "<matplotlib.figure.Figure at 0x7f9c55fd2da0>"
            ]
          },
          "metadata": {
            "tags": []
          }
        }
      ]
    },
    {
      "metadata": {
        "id": "xCBv3KB2y7Sg",
        "colab_type": "code",
        "outputId": "685b3ef6-ed29-4dbd-8ce7-6993c81377b8",
        "colab": {
          "base_uri": "https://localhost:8080/",
          "height": 354
        }
      },
      "cell_type": "code",
      "source": [
        "sns.boxplot(df_oc[df_oc['CANCELLED']==1].sort_values(by = 'YEAR', ascending = True)['YEAR'])"
      ],
      "execution_count": 0,
      "outputs": [
        {
          "output_type": "stream",
          "text": [
            "/usr/local/lib/python3.6/dist-packages/seaborn/categorical.py:454: FutureWarning: remove_na is deprecated and is a private function. Do not use.\n",
            "  box_data = remove_na(group_data)\n"
          ],
          "name": "stderr"
        },
        {
          "output_type": "execute_result",
          "data": {
            "text/plain": [
              "<matplotlib.axes._subplots.AxesSubplot at 0x7f9c559004e0>"
            ]
          },
          "metadata": {
            "tags": []
          },
          "execution_count": 38
        },
        {
          "output_type": "display_data",
          "data": {
            "image/png": "[encoded data removed]",
            "text/plain": [
              "<matplotlib.figure.Figure at 0x7f9c570422e8>"
            ]
          },
          "metadata": {
            "tags": []
          }
        }
      ]
    },
    {
      "metadata": {
        "id": "bjFyvEPBzOWR",
        "colab_type": "text"
      },
      "cell_type": "markdown",
      "source": [
        "Intturpreting the graphs above we have a class imbalance issue.\n",
        "\n",
        "As certain Airports are drastically more represented than other airports. This class imbalance is going to be an issue for any type of model"
      ]
    }
  ]
}