{
  "nbformat": 4,
  "nbformat_minor": 0,
  "metadata": {
    "colab": {
      "name": "KNN regression",
      "version": "0.3.2",
      "provenance": [],
      "include_colab_link": true
    },
    "kernelspec": {
      "name": "python3",
      "display_name": "Python 3"
    }
  },
  "cells": [
    {
      "cell_type": "markdown",
      "metadata": {
        "id": "view-in-github",
        "colab_type": "text"
      },
      "source": [
        "<a href=\"https://colab.research.google.com/github/zdwhite/Thinkful-Unit-3/blob/master/KNN_regression.ipynb\" target=\"_parent\"><img src=\"https://colab.research.google.com/assets/colab-badge.svg\" alt=\"Open In Colab\"/></a>"
      ]
    },
    {
      "metadata": {
        "id": "klKmnIGhz3Ow",
        "colab_type": "text"
      },
      "cell_type": "markdown",
      "source": [
        "\n",
        "\n",
        "> Why don't you **add the other feature** and **mess around with  k**  and **weighting** to see if you can do any better than we've done so far?\n",
        "\n"
      ]
    },
    {
      "metadata": {
        "id": "Zp41pZG9ypWQ",
        "colab_type": "code",
        "colab": {
          "base_uri": "https://localhost:8080/",
          "height": 173
        },
        "outputId": "7dab8344-95fe-40a7-f5ac-edeb362e80aa"
      },
      "cell_type": "code",
      "source": [
        "!pip install --upgrade matplotlib"
      ],
      "execution_count": 8,
      "outputs": [
        {
          "output_type": "stream",
          "text": [
            "Requirement already up-to-date: matplotlib in /usr/local/lib/python3.6/dist-packages (3.0.2)\n",
            "Requirement already satisfied, skipping upgrade: pyparsing!=2.0.4,!=2.1.2,!=2.1.6,>=2.0.1 in /usr/local/lib/python3.6/dist-packages (from matplotlib) (2.3.0)\n",
            "Requirement already satisfied, skipping upgrade: numpy>=1.10.0 in /usr/local/lib/python3.6/dist-packages (from matplotlib) (1.14.6)\n",
            "Requirement already satisfied, skipping upgrade: python-dateutil>=2.1 in /usr/local/lib/python3.6/dist-packages (from matplotlib) (2.5.3)\n",
            "Requirement already satisfied, skipping upgrade: cycler>=0.10 in /usr/local/lib/python3.6/dist-packages (from matplotlib) (0.10.0)\n",
            "Requirement already satisfied, skipping upgrade: kiwisolver>=1.0.1 in /usr/local/lib/python3.6/dist-packages (from matplotlib) (1.0.1)\n",
            "Requirement already satisfied, skipping upgrade: six>=1.5 in /usr/local/lib/python3.6/dist-packages (from python-dateutil>=2.1->matplotlib) (1.11.0)\n",
            "Requirement already satisfied, skipping upgrade: setuptools in /usr/local/lib/python3.6/dist-packages (from kiwisolver>=1.0.1->matplotlib) (40.6.2)\n"
          ],
          "name": "stdout"
        }
      ]
    },
    {
      "metadata": {
        "id": "tblk-vC6DVEU",
        "colab_type": "code",
        "colab": {}
      },
      "cell_type": "code",
      "source": [
        ""
      ],
      "execution_count": 0,
      "outputs": []
    },
    {
      "metadata": {
        "id": "IyPBB8RQ0A_r",
        "colab_type": "text"
      },
      "cell_type": "markdown",
      "source": [
        "Restart runtime"
      ]
    },
    {
      "metadata": {
        "id": "IjyN8bbRxXDK",
        "colab_type": "code",
        "colab": {}
      },
      "cell_type": "code",
      "source": [
        "import pandas as pd\n",
        "import numpy as np\n",
        "import scipy\n",
        "import matplotlib.pyplot as plt\n",
        "import sklearn\n",
        "%matplotlib inline\n",
        "\n",
        "music = pd.DataFrame()\n",
        "music['duration'] = [184, 134, 243, 186, 122, 197, 294, 382, 102, 264, \n",
        "                     205, 110, 307, 110, 397, 153, 190, 192, 210, 403,\n",
        "                     164, 198, 204, 253, 234, 190, 182, 401, 376, 102]\n",
        "music['loudness'] = [18, 34, 43, 36, 22, 9, 29, 22, 10, 24, \n",
        "                     20, 10, 17, 51, 7, 13, 19, 12, 21, 22,\n",
        "                     16, 18, 4, 23, 34, 19, 14, 11, 37, 42]\n",
        "music['bpm'] = [ 105, 90, 78, 75, 120, 110, 80, 100, 105, 60,\n",
        "                  70, 105, 95, 70, 90, 105, 70, 75, 102, 100,\n",
        "                  100, 95, 90, 80, 90, 80, 100, 105, 70, 65]"
      ],
      "execution_count": 0,
      "outputs": []
    },
    {
      "metadata": {
        "id": "Af01XPFI75Vd",
        "colab_type": "text"
      },
      "cell_type": "markdown",
      "source": [
        "## Include Duration"
      ]
    },
    {
      "metadata": {
        "id": "Ei0NlLRo-g5z",
        "colab_type": "text"
      },
      "cell_type": "markdown",
      "source": [
        "### Non-Weighted"
      ]
    },
    {
      "metadata": {
        "id": "Cvz35qsp1F-X",
        "colab_type": "code",
        "colab": {
          "base_uri": "https://localhost:8080/",
          "height": 68
        },
        "outputId": "e9f0449d-9fe8-4bc2-9133-720dc282156d"
      },
      "cell_type": "code",
      "source": [
        "from sklearn import neighbors\n",
        "\n",
        "# Build our model.\n",
        "knn = neighbors.KNeighborsRegressor(n_neighbors=10)\n",
        "X = pd.DataFrame(music[['loudness','duration']])\n",
        "Y = music[['bpm']]\n",
        "knn.fit(X, Y)\n",
        "\n"
      ],
      "execution_count": 46,
      "outputs": [
        {
          "output_type": "execute_result",
          "data": {
            "text/plain": [
              "KNeighborsRegressor(algorithm='auto', leaf_size=30, metric='minkowski',\n",
              "          metric_params=None, n_jobs=None, n_neighbors=10, p=2,\n",
              "          weights='uniform')"
            ]
          },
          "metadata": {
            "tags": []
          },
          "execution_count": 46
        }
      ]
    },
    {
      "metadata": {
        "id": "DW899Ina7fSo",
        "colab_type": "code",
        "colab": {
          "base_uri": "https://localhost:8080/",
          "height": 68
        },
        "outputId": "a0a6a945-06ff-48ac-ccb0-add321406e9b"
      },
      "cell_type": "code",
      "source": [
        "print('\\nR-squared:')\n",
        "print(knn.score(X, Y))"
      ],
      "execution_count": 47,
      "outputs": [
        {
          "output_type": "stream",
          "text": [
            "\n",
            "R-squared:\n",
            "0.09322387776406926\n"
          ],
          "name": "stdout"
        }
      ]
    },
    {
      "metadata": {
        "id": "7JBhOaA48Vwm",
        "colab_type": "text"
      },
      "cell_type": "markdown",
      "source": [
        "Here is the R<sup>2</sup> for 10 neighbors, including our other feature.\n",
        "\n"
      ]
    },
    {
      "metadata": {
        "id": "lkrOPwQb-n14",
        "colab_type": "text"
      },
      "cell_type": "markdown",
      "source": [
        "####Cross Validation"
      ]
    },
    {
      "metadata": {
        "id": "679nIWia-SXt",
        "colab_type": "code",
        "colab": {
          "base_uri": "https://localhost:8080/",
          "height": 34
        },
        "outputId": "26ad31c7-8b70-44b5-8fc8-79bafbd3a84c"
      },
      "cell_type": "code",
      "source": [
        "from sklearn.model_selection import cross_val_score\n",
        "score = cross_val_score(knn, X, Y, cv=5)\n",
        "print(\"Unweighted Accuracy: %0.2f (+/- %0.2f)\" % (score.mean(), score.std() * 2))\n"
      ],
      "execution_count": 48,
      "outputs": [
        {
          "output_type": "stream",
          "text": [
            "Unweighted Accuracy: -0.42 (+/- 0.78)\n"
          ],
          "name": "stdout"
        }
      ]
    },
    {
      "metadata": {
        "id": "GB0fix1o-3K6",
        "colab_type": "text"
      },
      "cell_type": "markdown",
      "source": [
        "Looks like we got worse at predicting."
      ]
    },
    {
      "metadata": {
        "id": "0PNi6AJv_Ali",
        "colab_type": "text"
      },
      "cell_type": "markdown",
      "source": [
        "### Weighted"
      ]
    },
    {
      "metadata": {
        "id": "F_s7bHyq4A_F",
        "colab_type": "code",
        "colab": {
          "base_uri": "https://localhost:8080/",
          "height": 68
        },
        "outputId": "dc276291-869e-47ae-9edc-cc99d00172f2"
      },
      "cell_type": "code",
      "source": [
        "from sklearn import neighbors\n",
        "\n",
        "# Build our model.\n",
        "knn = neighbors.KNeighborsRegressor(n_neighbors=10,weights='distance')\n",
        "X = pd.DataFrame(music[['loudness','duration']])\n",
        "Y = music[['bpm']]\n",
        "knn_w.fit(X, Y)\n",
        "\n",
        "print('\\nR-squared:')\n",
        "print(knn.score(X, Y))"
      ],
      "execution_count": 49,
      "outputs": [
        {
          "output_type": "stream",
          "text": [
            "\n",
            "R-squared:\n",
            "0.9928822245420897\n"
          ],
          "name": "stdout"
        }
      ]
    },
    {
      "metadata": {
        "id": "sgCiG5CW_3BP",
        "colab_type": "text"
      },
      "cell_type": "markdown",
      "source": [
        "Holy 8 ball batman our model can predict everything\n",
        "\n",
        "Careful Robin that model is no fortune teller it's overfitting! Stand back I'll show you."
      ]
    },
    {
      "metadata": {
        "id": "82aWQyw5_UZU",
        "colab_type": "text"
      },
      "cell_type": "markdown",
      "source": [
        "#### Cross Validation"
      ]
    },
    {
      "metadata": {
        "id": "kfns9Jlaxbmr",
        "colab_type": "code",
        "colab": {
          "base_uri": "https://localhost:8080/",
          "height": 34
        },
        "outputId": "be8c7b5c-32ad-4d9d-f911-73174b002ed9"
      },
      "cell_type": "code",
      "source": [
        "from sklearn.model_selection import cross_val_score\n",
        "\n",
        "score_w = cross_val_score(knn_w, X, Y, cv=5)\n",
        "print(\"Weighted Accuracy: %0.2f (+/- %0.2f)\" % (score_w.mean(), score_w.std() * 2))"
      ],
      "execution_count": 52,
      "outputs": [
        {
          "output_type": "stream",
          "text": [
            "Weighted Accuracy: -0.51 (+/- 1.24)\n"
          ],
          "name": "stdout"
        }
      ]
    },
    {
      "metadata": {
        "id": "IxtkRbLSAZn5",
        "colab_type": "text"
      },
      "cell_type": "markdown",
      "source": [
        "## Mess with all the Parameters!\n",
        "\n",
        "It was brought to my attention that SKlearn's gridsearch function is perfectly suited for this task"
      ]
    },
    {
      "metadata": {
        "id": "QQ1BtoemDRdg",
        "colab_type": "code",
        "colab": {}
      },
      "cell_type": "code",
      "source": [
        ""
      ],
      "execution_count": 0,
      "outputs": []
    },
    {
      "metadata": {
        "id": "106gEBDCAt6V",
        "colab_type": "code",
        "colab": {
          "base_uri": "https://localhost:8080/",
          "height": 170
        },
        "outputId": "11ec11f6-1880-4a25-d507-b78e5b6248eb"
      },
      "cell_type": "code",
      "source": [
        "\n",
        "from sklearn.model_selection import GridSearchCV\n",
        "X = pd.DataFrame(music[['loudness','duration']])\n",
        "Y = music[['bpm']]\n",
        "\n",
        "knn = neighbors.KNeighborsRegressor()\n",
        "\n",
        "parameters = {\n",
        "    'n_neighbors':np.arange(1, 21, 1),\n",
        "    'weights':['uniform','distance']\n",
        "}\n",
        "\n",
        "grid = GridSearchCV(knn, parameters, scoring='r2', cv=5, verbose=0)\n",
        "#Fit the Data\n",
        "grid.fit(X, Y)"
      ],
      "execution_count": 73,
      "outputs": [
        {
          "output_type": "execute_result",
          "data": {
            "text/plain": [
              "GridSearchCV(cv=5, error_score='raise-deprecating',\n",
              "       estimator=KNeighborsRegressor(algorithm='auto', leaf_size=30, metric='minkowski',\n",
              "          metric_params=None, n_jobs=None, n_neighbors=5, p=2,\n",
              "          weights='uniform'),\n",
              "       fit_params=None, iid='warn', n_jobs=None,\n",
              "       param_grid={'n_neighbors': array([ 1,  2,  3,  4,  5,  6,  7,  8,  9, 10, 11, 12, 13, 14, 15, 16, 17,\n",
              "       18, 19, 20]), 'weights': ['uniform', 'distance']},\n",
              "       pre_dispatch='2*n_jobs', refit=True, return_train_score='warn',\n",
              "       scoring='r2', verbose=0)"
            ]
          },
          "metadata": {
            "tags": []
          },
          "execution_count": 73
        }
      ]
    },
    {
      "metadata": {
        "id": "QC7qbCg3A8T4",
        "colab_type": "code",
        "colab": {
          "base_uri": "https://localhost:8080/",
          "height": 34
        },
        "outputId": "dc0073fa-b30e-42c2-94e8-44f9ccbe4b4a"
      },
      "cell_type": "code",
      "source": [
        "grid.best_params_"
      ],
      "execution_count": 74,
      "outputs": [
        {
          "output_type": "execute_result",
          "data": {
            "text/plain": [
              "{'n_neighbors': 17, 'weights': 'distance'}"
            ]
          },
          "metadata": {
            "tags": []
          },
          "execution_count": 74
        }
      ]
    },
    {
      "metadata": {
        "id": "MX7cUdRwEJPg",
        "colab_type": "code",
        "colab": {
          "base_uri": "https://localhost:8080/",
          "height": 34
        },
        "outputId": "cfea190b-1c46-4ebb-aab5-e99c48616eb1"
      },
      "cell_type": "code",
      "source": [
        "grid.cv_results_['mean_test_score'][grid.best_index_], grid.cv_results_['std_test_score'][grid.best_index_]"
      ],
      "execution_count": 98,
      "outputs": [
        {
          "output_type": "execute_result",
          "data": {
            "text/plain": [
              "(-0.22260040335155942, 0.28285600182106746)"
            ]
          },
          "metadata": {
            "tags": []
          },
          "execution_count": 98
        }
      ]
    },
    {
      "metadata": {
        "id": "Ko0LiZ2vIKio",
        "colab_type": "text"
      },
      "cell_type": "markdown",
      "source": [
        "Well this sucks, our best itteration of the model doesn't predict very well."
      ]
    },
    {
      "metadata": {
        "id": "HgcfRqHQBcrI",
        "colab_type": "code",
        "colab": {}
      },
      "cell_type": "code",
      "source": [
        ""
      ],
      "execution_count": 0,
      "outputs": []
    },
    {
      "metadata": {
        "id": "tYcdGJsvDmaU",
        "colab_type": "code",
        "colab": {
          "base_uri": "https://localhost:8080/",
          "height": 170
        },
        "outputId": "c21feeb6-087e-485c-8c68-a496168687e4"
      },
      "cell_type": "code",
      "source": [
        "from sklearn.model_selection import GridSearchCV\n",
        "X = pd.DataFrame(music.loudness)\n",
        "Y = music[['bpm']]\n",
        "\n",
        "knn = neighbors.KNeighborsRegressor()\n",
        "\n",
        "parameters = {\n",
        "    'n_neighbors':np.arange(1, 21, 1),\n",
        "    'weights':['uniform','distance']\n",
        "}\n",
        "\n",
        "grid = GridSearchCV(knn, parameters, scoring='r2', cv=5, verbose=0)\n",
        "#Fit the Data\n",
        "grid.fit(X, Y)"
      ],
      "execution_count": 102,
      "outputs": [
        {
          "output_type": "execute_result",
          "data": {
            "text/plain": [
              "GridSearchCV(cv=5, error_score='raise-deprecating',\n",
              "       estimator=KNeighborsRegressor(algorithm='auto', leaf_size=30, metric='minkowski',\n",
              "          metric_params=None, n_jobs=None, n_neighbors=5, p=2,\n",
              "          weights='uniform'),\n",
              "       fit_params=None, iid='warn', n_jobs=None,\n",
              "       param_grid={'n_neighbors': array([ 1,  2,  3,  4,  5,  6,  7,  8,  9, 10, 11, 12, 13, 14, 15, 16, 17,\n",
              "       18, 19, 20]), 'weights': ['uniform', 'distance']},\n",
              "       pre_dispatch='2*n_jobs', refit=True, return_train_score='warn',\n",
              "       scoring='r2', verbose=0)"
            ]
          },
          "metadata": {
            "tags": []
          },
          "execution_count": 102
        }
      ]
    },
    {
      "metadata": {
        "id": "4Gn3rqmtMCs7",
        "colab_type": "code",
        "colab": {
          "base_uri": "https://localhost:8080/",
          "height": 34
        },
        "outputId": "cb92ea6c-bede-45fa-eeb5-4017a6809b5c"
      },
      "cell_type": "code",
      "source": [
        "grid.best_params_"
      ],
      "execution_count": 103,
      "outputs": [
        {
          "output_type": "execute_result",
          "data": {
            "text/plain": [
              "{'n_neighbors': 6, 'weights': 'distance'}"
            ]
          },
          "metadata": {
            "tags": []
          },
          "execution_count": 103
        }
      ]
    },
    {
      "metadata": {
        "id": "bLRQx7apNAnO",
        "colab_type": "code",
        "colab": {
          "base_uri": "https://localhost:8080/",
          "height": 34
        },
        "outputId": "525e609c-8ccc-4fd0-fe06-84cc9447b8ba"
      },
      "cell_type": "code",
      "source": [
        "grid.cv_results_['mean_test_score'][grid.best_index_], grid.cv_results_['std_test_score'][grid.best_index_]"
      ],
      "execution_count": 105,
      "outputs": [
        {
          "output_type": "execute_result",
          "data": {
            "text/plain": [
              "(0.16767917386506967, 0.411929287645543)"
            ]
          },
          "metadata": {
            "tags": []
          },
          "execution_count": 105
        }
      ]
    },
    {
      "metadata": {
        "id": "M2tSSglgNjmx",
        "colab_type": "text"
      },
      "cell_type": "markdown",
      "source": [
        "While this also sucks, it seems that duration had a negative effect on prediction."
      ]
    }
  ]
}