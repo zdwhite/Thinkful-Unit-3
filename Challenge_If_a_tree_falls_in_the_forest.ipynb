{
  "nbformat": 4,
  "nbformat_minor": 0,
  "metadata": {
    "colab": {
      "name": "Challenge: If a tree falls in the forest",
      "version": "0.3.2",
      "provenance": [],
      "include_colab_link": true
    },
    "kernelspec": {
      "name": "python3",
      "display_name": "Python 3"
    },
    "accelerator": "GPU"
  },
  "cells": [
    {
      "cell_type": "markdown",
      "metadata": {
        "id": "view-in-github",
        "colab_type": "text"
      },
      "source": [
        "<a href=\"https://colab.research.google.com/github/zdwhite/Thinkful-Unit-3/blob/master/Challenge_If_a_tree_falls_in_the_forest.ipynb\" target=\"_parent\"><img src=\"https://colab.research.google.com/assets/colab-badge.svg\" alt=\"Open In Colab\"/></a>"
      ]
    },
    {
      "metadata": {
        "id": "pcwppGcTo3kE",
        "colab_type": "text"
      },
      "cell_type": "markdown",
      "source": [
        "# Build the best decision tree you can."
      ]
    },
    {
      "metadata": {
        "id": "BRmEOBN7o8FT",
        "colab_type": "text"
      },
      "cell_type": "markdown",
      "source": [
        "OKAY DAD! For the interest of time let's use the previous data set and test some run times!"
      ]
    },
    {
      "metadata": {
        "id": "jGf8jTlP_AWJ",
        "colab_type": "code",
        "colab": {}
      },
      "cell_type": "code",
      "source": [
        "import pandas as pd\n",
        "import numpy as np\n",
        "import matplotlib.pyplot as plt\n",
        "import seaborn as sns\n",
        "%matplotlib inline\n",
        "\n",
        "import timeit\n"
      ],
      "execution_count": 0,
      "outputs": []
    },
    {
      "metadata": {
        "id": "i38cBDFl_Bsi",
        "colab_type": "code",
        "outputId": "c72f368e-1dd6-4560-9e95-cad054816820",
        "colab": {
          "base_uri": "https://localhost:8080/",
          "height": 71
        }
      },
      "cell_type": "code",
      "source": [
        "y2015 = pd.read_csv(\n",
        "    'https://www.dropbox.com/s/0so14yudedjmm5m/LoanStats3d.csv?dl=1',\n",
        "    skipinitialspace=True,\n",
        "    header=1)"
      ],
      "execution_count": 2,
      "outputs": [
        {
          "output_type": "stream",
          "text": [
            "/usr/local/lib/python3.6/dist-packages/IPython/core/interactiveshell.py:2718: DtypeWarning: Columns (0,19,55) have mixed types. Specify dtype option on import or set low_memory=False.\n",
            "  interactivity=interactivity, compiler=compiler, result=result)\n"
          ],
          "name": "stderr"
        }
      ]
    },
    {
      "metadata": {
        "id": "XyldI_xKOi7i",
        "colab_type": "code",
        "colab": {}
      },
      "cell_type": "code",
      "source": [
        "####### REMEMBER THIS SHIT could be REALLY useful in the future\n",
        "categorical = y2015.select_dtypes(include=['object'])\n",
        "for i in categorical:\n",
        "    column = categorical[i]\n",
        "    print(i,column.nunique())\n",
        "    #print()\n",
        "#### "
      ],
      "execution_count": 0,
      "outputs": []
    },
    {
      "metadata": {
        "id": "nPGACVfeO8e3",
        "colab_type": "code",
        "colab": {}
      },
      "cell_type": "code",
      "source": [
        "# Convert ID and Interest Rate to numeric.\n",
        "y2015['id'] = pd.to_numeric(y2015['id'], errors='coerce')\n",
        "y2015['int_rate'] = pd.to_numeric(y2015['int_rate'].str.strip('%'), errors='coerce')\n",
        "\n",
        "# Drop other columns with many unique variables\n",
        "y2015.drop(['url', 'emp_title', 'zip_code', 'earliest_cr_line', 'revol_util',\n",
        "            'sub_grade', 'addr_state', 'desc'], 1, inplace=True)"
      ],
      "execution_count": 0,
      "outputs": []
    },
    {
      "metadata": {
        "id": "0d0nnaK5P3Of",
        "colab_type": "code",
        "colab": {}
      },
      "cell_type": "code",
      "source": [
        "# Remove two summary rows at the end that don't actually contain data.\n",
        "y2015 = y2015[:-2]"
      ],
      "execution_count": 0,
      "outputs": []
    },
    {
      "metadata": {
        "id": "q8HYeyTkqWO-",
        "colab_type": "code",
        "colab": {}
      },
      "cell_type": "code",
      "source": [
        "# Create X and Y then generate our T.T.S reports not to be confused with TPS reports\n",
        "from sklearn.model_selection import train_test_split\n",
        "\n",
        "X = y2015.drop(['loan_status','id','member_id'], 1)\n",
        "Y = y2015['loan_status']\n",
        "X = pd.get_dummies(X)\n",
        "X = X.dropna(axis=1)\n",
        "\n",
        "#Split the data into training and validation\n",
        "X_train, X_test, Y_train, Y_test = train_test_split(X,Y)"
      ],
      "execution_count": 0,
      "outputs": []
    },
    {
      "metadata": {
        "id": "pkLxOp_YrJVn",
        "colab_type": "text"
      },
      "cell_type": "markdown",
      "source": [
        "## The Best Models, you'll lovem, they're great, just the best, trust me"
      ]
    },
    {
      "metadata": {
        "id": "tjuy98EV_JYv",
        "colab_type": "code",
        "outputId": "562bc7ad-b31e-497d-fef0-0ffbfa2bcad6",
        "colab": {
          "base_uri": "https://localhost:8080/",
          "height": 51
        }
      },
      "cell_type": "code",
      "source": [
        "from sklearn import ensemble\n",
        "from sklearn.model_selection import cross_val_score\n",
        "\n",
        "rfc = ensemble.RandomForestClassifier(n_estimators=5)\n",
        "start = timeit.default_timer()\n",
        "TBM = rfc.fit(X_train, Y_train)\n",
        "stop = timeit.default_timer()\n",
        "print(TBM.score(X_test,Y_test))\n",
        "print(\"--- %s seconds ---\" % (stop - start))"
      ],
      "execution_count": 14,
      "outputs": [
        {
          "output_type": "stream",
          "text": [
            "0.9788741759598761\n",
            "--- 10.738114627001778 seconds ---\n"
          ],
          "name": "stdout"
        }
      ]
    },
    {
      "metadata": {
        "id": "6VvewGrklK3e",
        "colab_type": "text"
      },
      "cell_type": "markdown",
      "source": [
        "## These models? They're the worst!"
      ]
    },
    {
      "metadata": {
        "id": "D0V6KEn6ScnG",
        "colab_type": "code",
        "colab": {
          "base_uri": "https://localhost:8080/",
          "height": 51
        },
        "outputId": "180d6533-250e-49a8-8ab2-861636604b62"
      },
      "cell_type": "code",
      "source": [
        "from sklearn.tree import DecisionTreeClassifier\n",
        "dt = DecisionTreeClassifier()\n",
        "start = timeit.default_timer()\n",
        "TWM = dt.fit(X_train, Y_train)\n",
        "stop = timeit.default_timer()\n",
        "print(TWM.score(X_test,Y_test))\n",
        "print(\"--- %s seconds ---\" % (stop - start))\n"
      ],
      "execution_count": 15,
      "outputs": [
        {
          "output_type": "stream",
          "text": [
            "0.9652145828979615\n",
            "--- 40.75740994499938 seconds ---\n"
          ],
          "name": "stdout"
        }
      ]
    },
    {
      "metadata": {
        "id": "la_-f56iuI1U",
        "colab_type": "text"
      },
      "cell_type": "markdown",
      "source": [
        "See my [github](https://github.com/zdwhite/Thinkful-Unit-3/blob/master/DRILL_Random_forest.ipynb) on the previous drill for how I came up with the Principle Components for this next run."
      ]
    },
    {
      "metadata": {
        "colab_type": "code",
        "id": "zjzqdykJuYOz",
        "colab": {}
      },
      "cell_type": "code",
      "source": [
        "from matplotlib.mlab import PCA as mlabPCA\n",
        "from sklearn import preprocessing\n",
        "from sklearn.decomposition import PCA "
      ],
      "execution_count": 0,
      "outputs": []
    },
    {
      "metadata": {
        "colab_type": "code",
        "outputId": "5ba00372-cc95-4607-c235-1b55db63f200",
        "id": "VALnX0iKuYO2",
        "colab": {
          "base_uri": "https://localhost:8080/",
          "height": 71
        }
      },
      "cell_type": "code",
      "source": [
        "# Let's condense things down to 30 dimmensions \n",
        "sklearn_pca = PCA(n_components=10)\n",
        "\n",
        "## use a standard scalar for our data we'll drop the dependant variable and the id columns\n",
        "\n",
        "X = y2015.drop(['loan_status','id','member_id'],1)\n",
        "X = pd.get_dummies(X)\n",
        "X = X.dropna(axis=1)\n",
        "\n",
        "data_scaled = pd.DataFrame(preprocessing.scale(X),columns = X.columns)\n",
        "\n",
        "Y_sklearn = sklearn_pca.fit_transform(data_scaled)\n",
        "\n",
        "principalDf = pd.DataFrame(data = Y_sklearn)\n",
        "FinalDf = pd.concat([principalDf, y2015['loan_status']], axis = 1)"
      ],
      "execution_count": 23,
      "outputs": [
        {
          "output_type": "stream",
          "text": [
            "/usr/local/lib/python3.6/dist-packages/ipykernel_launcher.py:9: DataConversionWarning: Data with input dtype uint8, float64 were all converted to float64 by the scale function.\n",
            "  if __name__ == '__main__':\n"
          ],
          "name": "stderr"
        }
      ]
    },
    {
      "metadata": {
        "id": "989J1Jf3NOko",
        "colab_type": "code",
        "colab": {}
      },
      "cell_type": "code",
      "source": [
        "X = FinalDf.drop(['loan_status'], 1)\n",
        "Y = FinalDf['loan_status']\n",
        "#Split the data into training and validation\n",
        "X_train, X_test, Y_train, Y_test = train_test_split(X,Y)\n"
      ],
      "execution_count": 0,
      "outputs": []
    },
    {
      "metadata": {
        "id": "bMdGSZB5vH0_",
        "colab_type": "text"
      },
      "cell_type": "markdown",
      "source": [
        ""
      ]
    },
    {
      "metadata": {
        "id": "EBQGlLa184kf",
        "colab_type": "code",
        "colab": {
          "base_uri": "https://localhost:8080/",
          "height": 51
        },
        "outputId": "04451999-fd52-40a2-eaec-79a7500bd460"
      },
      "cell_type": "code",
      "source": [
        "rfc = ensemble.RandomForestClassifier(n_estimators=5)\n",
        "start = timeit.default_timer()\n",
        "TBM = rfc.fit(X_train, Y_train)\n",
        "stop = timeit.default_timer()\n",
        "print(TBM.score(X_test,Y_test))\n",
        "print(\"--- %s seconds ---\" % (stop - start))"
      ],
      "execution_count": 25,
      "outputs": [
        {
          "output_type": "stream",
          "text": [
            "0.934485248019454\n",
            "--- 9.605930215002445 seconds ---\n"
          ],
          "name": "stdout"
        }
      ]
    },
    {
      "metadata": {
        "id": "zgeo8Laiwbs9",
        "colab_type": "text"
      },
      "cell_type": "markdown",
      "source": [
        "After only keeping  10 Principal components we see our accuracy dropped ~4%  for a marginal gain in runtime efficiency. Let's drop some other stuff and see what happens"
      ]
    },
    {
      "metadata": {
        "id": "P3BMBD3Tvt8a",
        "colab_type": "code",
        "colab": {}
      },
      "cell_type": "code",
      "source": [
        "# Below is a list of features that will be removed that are all highly correlated with one another again see my github for the previous assignment on how I ffound these\n",
        "\n",
        "features = ['num_actv_rev_tl',\n",
        " 'total_il_high_credit_limit',\n",
        " 'open_rv_12m',\n",
        " 'id',\n",
        " 'num_bc_tl',\n",
        " 'funded_amnt',\n",
        " 'out_prncp',\n",
        " 'loan_amnt',\n",
        " 'revol_bal',\n",
        " 'installment',\n",
        " 'num_actv_bc_tl',\n",
        " 'open_rv_24m',\n",
        " 'open_acc',\n",
        " 'tot_cur_bal',\n",
        " 'total_bal_il',\n",
        " 'bc_util',\n",
        " 'member_id',\n",
        " 'mths_since_recent_bc_dlq',\n",
        " 'mths_since_last_delinq',\n",
        " 'num_rev_tl_bal_gt_0',\n",
        " 'total_rec_prncp',\n",
        " 'total_pymnt',\n",
        " 'num_sats',\n",
        " 'bc_open_to_buy',\n",
        " 'last_pymnt_amnt',\n",
        " 'loan_status',\n",
        " 'recoveries','loan_status']"
      ],
      "execution_count": 0,
      "outputs": []
    },
    {
      "metadata": {
        "id": "-958vCUMvvCy",
        "colab_type": "code",
        "colab": {}
      },
      "cell_type": "code",
      "source": [
        "# Create X and Y then generate our T.T.S reports not to be confused with TPS reports\n",
        "from sklearn.model_selection import train_test_split\n",
        "\n",
        "X = y2015.drop(features, 1)\n",
        "Y = y2015['loan_status']\n",
        "X = pd.get_dummies(X)\n",
        "X = X.dropna(axis=1)\n",
        "\n",
        "#Split the data into training and validation\n",
        "X_train, X_test, Y_train, Y_test = train_test_split(X,Y)"
      ],
      "execution_count": 0,
      "outputs": []
    },
    {
      "metadata": {
        "id": "sl-jiI3qxmoZ",
        "colab_type": "code",
        "colab": {
          "base_uri": "https://localhost:8080/",
          "height": 51
        },
        "outputId": "29eb96b2-6bc6-481a-a475-75fe02422369"
      },
      "cell_type": "code",
      "source": [
        "rfc = ensemble.RandomForestClassifier(n_estimators=5)\n",
        "start = timeit.default_timer()\n",
        "TBM = rfc.fit(X_train, Y_train)\n",
        "stop = timeit.default_timer()\n",
        "print(TBM.score(X_test,Y_test))\n",
        "print(\"--- %s seconds ---\" % (stop - start))"
      ],
      "execution_count": 29,
      "outputs": [
        {
          "output_type": "stream",
          "text": [
            "0.9733552444098258\n",
            "--- 8.079173739999533 seconds ---\n"
          ],
          "name": "stdout"
        }
      ]
    },
    {
      "metadata": {
        "id": "x18GdOixyMt_",
        "colab_type": "text"
      },
      "cell_type": "markdown",
      "source": [
        "Test the single tree model with the paired down data"
      ]
    },
    {
      "metadata": {
        "id": "TGBbE0NWyL-O",
        "colab_type": "code",
        "colab": {
          "base_uri": "https://localhost:8080/",
          "height": 51
        },
        "outputId": "92e4f921-20ca-41c2-a371-bded29ba9b47"
      },
      "cell_type": "code",
      "source": [
        "dt = DecisionTreeClassifier()\n",
        "start = timeit.default_timer()\n",
        "TWM = dt.fit(X_train, Y_train)\n",
        "stop = timeit.default_timer()\n",
        "print(TWM.score(X_test,Y_test))\n",
        "print(\"--- %s seconds ---\" % (stop - start))\n"
      ],
      "execution_count": 30,
      "outputs": [
        {
          "output_type": "stream",
          "text": [
            "0.9642741797594848\n",
            "--- 26.202839564000897 seconds ---\n"
          ],
          "name": "stdout"
        }
      ]
    },
    {
      "metadata": {
        "id": "6ZRZTtpYxqoi",
        "colab_type": "text"
      },
      "cell_type": "markdown",
      "source": [
        "Looks like we have a winner  \n",
        "**0.9733552444098258   --- 8.079173739999533 seconds ---** \n",
        "\n",
        "as compared to our Random Forest classifier with all the features\n",
        "\n",
        "0.9788741759598761   --- 10.738114627001778 seconds ---"
      ]
    },
    {
      "metadata": {
        "id": "E0FVR7nNxv67",
        "colab_type": "code",
        "colab": {}
      },
      "cell_type": "code",
      "source": [
        ""
      ],
      "execution_count": 0,
      "outputs": []
    }
  ]
}