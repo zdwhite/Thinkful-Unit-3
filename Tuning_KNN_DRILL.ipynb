{
  "nbformat": 4,
  "nbformat_minor": 0,
  "metadata": {
    "colab": {
      "name": "Tuning KNN DRILL",
      "version": "0.3.2",
      "provenance": [],
      "include_colab_link": true
    },
    "kernelspec": {
      "name": "python3",
      "display_name": "Python 3"
    }
  },
  "cells": [
    {
      "cell_type": "markdown",
      "metadata": {
        "id": "view-in-github",
        "colab_type": "text"
      },
      "source": [
        "<a href=\"https://colab.research.google.com/github/zdwhite/Thinkful-Unit-3/blob/master/Tuning_KNN_DRILL.ipynb\" target=\"_parent\"><img src=\"https://colab.research.google.com/assets/colab-badge.svg\" alt=\"Open In Colab\"/></a>"
      ]
    },
    {
      "metadata": {
        "id": "rJEfZOdwgk7o",
        "colab_type": "text"
      },
      "cell_type": "markdown",
      "source": [
        "Let's say we work at a credit card company and we're trying to **figure out if people are going to pay their bills on time**. \n",
        "\n",
        "We have everyone's purchases, split into four main categories:  \n",
        "\n",
        "1.    groceries \n",
        "2.    dining out\n",
        "3.    utilities\n",
        "4.    entertainment \n",
        "\n",
        "What are some ways you might use KNN to create this model?\n",
        "\n",
        "First off, we'd need to segment and normalize user data by billing period of our historical data. Each billing period per user is scored as being paid on-time or not E.G (0 for No , 1 for Yes). Each user's billing period has the associated purchase category as our independant variables represented as a single point of data. \n",
        "\n",
        "From here we map all user/billing period data along with the binary variable dependant variable. This will give us a decent idea of the decision boundary that exists based on the chosen independant variables. Now as a user makes categorical purchases during a billing period we can model their likely-hood of paying their bill on time. When a user crosses the current model boundary threshold the user/billing period can be flagged.\n",
        "\n",
        "The model can be tested over a quarter and measure its effectiveness/accuracy through a confusion matrix.\n",
        "\n",
        "What aspects of KNN would be useful?\n",
        "\n",
        "Simplicity of deployment, a model like this would be extremely simple to implement and access its success. Also it's fairly simple to fine tune / parameterize  per user. This is to say when the model was incorrect we can rerun the model with different parameters for each users. "
      ]
    },
    {
      "metadata": {
        "id": "dc2-9MhFgg1x",
        "colab_type": "code",
        "colab": {}
      },
      "cell_type": "code",
      "source": [
        ""
      ],
      "execution_count": 0,
      "outputs": []
    }
  ]
}