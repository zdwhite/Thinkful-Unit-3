{
 "cells": [
  {
   "cell_type": "code",
   "execution_count": 1,
   "metadata": {},
   "outputs": [],
   "source": [
    "#Imports\n",
    "\n",
    "#Basic Imports\n",
    "import pandas as pd\n",
    "import numpy as np\n",
    "import scipy\n",
    "import matplotlib.pyplot as plt\n",
    "%matplotlib inline\n",
    "\n",
    "#Models\n",
    "from sklearn import ensemble\n",
    "from sklearn import datasets\n",
    "from sklearn.utils import shuffle\n",
    "from sklearn.metrics import mean_squared_error\n",
    "from sklearn.model_selection import GridSearchCV, train_test_split\n",
    "\n",
    "#Visualization\n",
    "import seaborn as sns\n",
    "#Time\n",
    "import time"
   ]
  },
  {
   "cell_type": "code",
   "execution_count": 2,
   "metadata": {},
   "outputs": [
    {
     "name": "stdout",
     "output_type": "stream",
     "text": [
      " Volume in drive C has no label.\n",
      " Volume Serial Number is 6639-23B8\n",
      "\n",
      " Directory of C:\\Users\\zdwhi\\appdata\\local\\programs\\python\\python37\\Thinkful Projects\n",
      "\n",
      "01/13/2019  06:44 PM    <DIR>          .\n",
      "01/13/2019  06:44 PM    <DIR>          ..\n",
      "01/10/2019  04:53 PM    <DIR>          .ipynb_checkpoints\n",
      "01/10/2019  12:20 PM         2,251,028 Boosting Drill.ipynb\n",
      "01/13/2019  06:44 PM            12,872 Credit Card Fraud with multi threading.ipynb\n",
      "01/10/2019  04:02 PM           108,054 Credit Card Fraud.ipynb\n",
      "01/10/2019  11:24 AM       150,828,752 creditcard.csv\n",
      "01/10/2019  06:59 PM            13,046 Untitled.ipynb\n",
      "               5 File(s)    153,213,752 bytes\n",
      "               3 Dir(s)  457,852,248,064 bytes free\n"
     ]
    }
   ],
   "source": [
    "!dir"
   ]
  },
  {
   "cell_type": "code",
   "execution_count": 3,
   "metadata": {},
   "outputs": [],
   "source": [
    "df = pd.read_csv('creditcard.csv')"
   ]
  },
  {
   "cell_type": "code",
   "execution_count": 4,
   "metadata": {},
   "outputs": [
    {
     "name": "stdout",
     "output_type": "stream",
     "text": [
      "<class 'pandas.core.frame.DataFrame'>\n",
      "RangeIndex: 284807 entries, 0 to 284806\n",
      "Data columns (total 31 columns):\n",
      "Time      284807 non-null float64\n",
      "V1        284807 non-null float64\n",
      "V2        284807 non-null float64\n",
      "V3        284807 non-null float64\n",
      "V4        284807 non-null float64\n",
      "V5        284807 non-null float64\n",
      "V6        284807 non-null float64\n",
      "V7        284807 non-null float64\n",
      "V8        284807 non-null float64\n",
      "V9        284807 non-null float64\n",
      "V10       284807 non-null float64\n",
      "V11       284807 non-null float64\n",
      "V12       284807 non-null float64\n",
      "V13       284807 non-null float64\n",
      "V14       284807 non-null float64\n",
      "V15       284807 non-null float64\n",
      "V16       284807 non-null float64\n",
      "V17       284807 non-null float64\n",
      "V18       284807 non-null float64\n",
      "V19       284807 non-null float64\n",
      "V20       284807 non-null float64\n",
      "V21       284807 non-null float64\n",
      "V22       284807 non-null float64\n",
      "V23       284807 non-null float64\n",
      "V24       284807 non-null float64\n",
      "V25       284807 non-null float64\n",
      "V26       284807 non-null float64\n",
      "V27       284807 non-null float64\n",
      "V28       284807 non-null float64\n",
      "Amount    284807 non-null float64\n",
      "Class     284807 non-null int64\n",
      "dtypes: float64(30), int64(1)\n",
      "memory usage: 67.4 MB\n"
     ]
    }
   ],
   "source": [
    "df.info()"
   ]
  },
  {
   "cell_type": "code",
   "execution_count": 7,
   "metadata": {},
   "outputs": [
    {
     "data": {
      "text/plain": [
       "Time      0\n",
       "V1        0\n",
       "V2        0\n",
       "V3        0\n",
       "V4        0\n",
       "V5        0\n",
       "V6        0\n",
       "V7        0\n",
       "V8        0\n",
       "V9        0\n",
       "V10       0\n",
       "V11       0\n",
       "V12       0\n",
       "V13       0\n",
       "V14       0\n",
       "V15       0\n",
       "V16       0\n",
       "V17       0\n",
       "V18       0\n",
       "V19       0\n",
       "V20       0\n",
       "V21       0\n",
       "V22       0\n",
       "V23       0\n",
       "V24       0\n",
       "V25       0\n",
       "V26       0\n",
       "V27       0\n",
       "V28       0\n",
       "Amount    0\n",
       "Class     0\n",
       "dtype: int64"
      ]
     },
     "execution_count": 7,
     "metadata": {},
     "output_type": "execute_result"
    }
   ],
   "source": [
    "df.isnull().sum()"
   ]
  },
  {
   "cell_type": "code",
   "execution_count": 5,
   "metadata": {},
   "outputs": [
    {
     "data": {
      "text/plain": [
       "0    284315\n",
       "1       492\n",
       "Name: Class, dtype: int64"
      ]
     },
     "execution_count": 5,
     "metadata": {},
     "output_type": "execute_result"
    }
   ],
   "source": [
    "df['Class'].value_counts()"
   ]
  },
  {
   "cell_type": "code",
   "execution_count": 6,
   "metadata": {},
   "outputs": [
    {
     "data": {
      "image/png": "[encoded data removed]",
      "text/plain": [
       "<Figure size 1440x576 with 2 Axes>"
      ]
     },
     "metadata": {
      "needs_background": "light"
     },
     "output_type": "display_data"
    }
   ],
   "source": [
    "#Distribution of non scaled features\n",
    "\n",
    "#Source  =   https://www.kaggle.com/janiobachmann/credit-fraud-dealing-with-imbalanced-datasets\n",
    "\n",
    "fig, ax = plt.subplots(1, 2, figsize=(20,8))\n",
    "\n",
    "amount_val = df['Amount'].values\n",
    "time_val = df['Time'].values\n",
    "\n",
    "sns.distplot(amount_val, ax=ax[0], color='r')\n",
    "ax[0].set_title('Distribution of Transaction Amount', fontsize=14)\n",
    "ax[0].set_xlim([min(amount_val), max(amount_val)])\n",
    "\n",
    "sns.distplot(time_val, ax=ax[1], color='b')\n",
    "ax[1].set_title('Distribution of Transaction Time', fontsize=14)\n",
    "ax[1].set_xlim([min(time_val), max(time_val)])\n",
    "\n",
    "\n",
    "\n",
    "plt.show()"
   ]
  },
  {
   "cell_type": "code",
   "execution_count": 7,
   "metadata": {},
   "outputs": [
    {
     "data": {
      "text/plain": [
       "284315"
      ]
     },
     "execution_count": 7,
     "metadata": {},
     "output_type": "execute_result"
    }
   ],
   "source": [
    "df['Class'].value_counts()[0]"
   ]
  },
  {
   "cell_type": "code",
   "execution_count": 11,
   "metadata": {},
   "outputs": [
    {
     "data": {
      "text/plain": [
       "0.1727485630620034"
      ]
     },
     "execution_count": 11,
     "metadata": {},
     "output_type": "execute_result"
    }
   ],
   "source": [
    "100*(df['Class'].value_counts()[1]/(df['Class'].value_counts()[0]+df['Class'].value_counts()[1]))"
   ]
  },
  {
   "cell_type": "code",
   "execution_count": 8,
   "metadata": {},
   "outputs": [],
   "source": [
    "X = df.drop(['Class'],1)\n",
    "Y = df['Class']"
   ]
  },
  {
   "cell_type": "code",
   "execution_count": 9,
   "metadata": {},
   "outputs": [],
   "source": [
    "# T T S assign\n",
    "X_train, X_test, y_train, y_test = train_test_split(X,Y, test_size=0.25)"
   ]
  },
  {
   "cell_type": "code",
   "execution_count": 32,
   "metadata": {},
   "outputs": [
    {
     "data": {
      "text/plain": [
       "7351"
      ]
     },
     "execution_count": 32,
     "metadata": {},
     "output_type": "execute_result"
    }
   ],
   "source": [
    "np.random.randint(10000)"
   ]
  },
  {
   "cell_type": "code",
   "execution_count": 66,
   "metadata": {},
   "outputs": [],
   "source": [
    "params = {'loss': ['deviance','exponential'],\n",
    "         'learning_rate' : [ .01, 0.1,.2],\n",
    "         'n_estimators': [600,800],\n",
    "         'subsample': [.8, .9],\n",
    "         'min_samples_split':[2,3],\n",
    "         'min_weight_fraction_leaf': [0,.1,.2,.5],\n",
    "         'max_depth': [2],\n",
    "         'tol':[0.00001],\n",
    "          'random_state':[7351]\n",
    "         }"
   ]
  },
  {
   "cell_type": "code",
   "execution_count": 67,
   "metadata": {},
   "outputs": [],
   "source": [
    "clf = ensemble.GradientBoostingClassifier()"
   ]
  },
  {
   "cell_type": "code",
   "execution_count": 68,
   "metadata": {},
   "outputs": [],
   "source": [
    "# Given our relatively small data set let's set our folds to be slightly larger size\n",
    "grid = GridSearchCV(clf, params, cv=4, verbose=10,n_jobs=5)"
   ]
  },
  {
   "cell_type": "code",
   "execution_count": 69,
   "metadata": {},
   "outputs": [
    {
     "name": "stdout",
     "output_type": "stream",
     "text": [
      "Fitting 4 folds for each of 192 candidates, totalling 768 fits\n"
     ]
    },
    {
     "name": "stderr",
     "output_type": "stream",
     "text": [
      "[Parallel(n_jobs=5)]: Using backend LokyBackend with 5 concurrent workers.\n",
      "[Parallel(n_jobs=5)]: Done   3 tasks      | elapsed:  3.9min\n",
      "[Parallel(n_jobs=5)]: Done   8 tasks      | elapsed:  8.0min\n",
      "[Parallel(n_jobs=5)]: Done  15 tasks      | elapsed: 14.8min\n",
      "[Parallel(n_jobs=5)]: Done  22 tasks      | elapsed: 21.1min\n",
      "[Parallel(n_jobs=5)]: Done  31 tasks      | elapsed: 30.2min\n",
      "[Parallel(n_jobs=5)]: Done  40 tasks      | elapsed: 34.9min\n",
      "[Parallel(n_jobs=5)]: Done  51 tasks      | elapsed: 44.3min\n",
      "[Parallel(n_jobs=5)]: Done  62 tasks      | elapsed: 49.5min\n",
      "[Parallel(n_jobs=5)]: Done  75 tasks      | elapsed: 61.1min\n",
      "[Parallel(n_jobs=5)]: Done  88 tasks      | elapsed: 71.6min\n",
      "[Parallel(n_jobs=5)]: Done 103 tasks      | elapsed: 84.1min\n",
      "[Parallel(n_jobs=5)]: Done 118 tasks      | elapsed: 94.3min\n",
      "[Parallel(n_jobs=5)]: Done 135 tasks      | elapsed: 105.4min\n",
      "[Parallel(n_jobs=5)]: Done 152 tasks      | elapsed: 121.9min\n",
      "[Parallel(n_jobs=5)]: Done 171 tasks      | elapsed: 137.9min\n",
      "[Parallel(n_jobs=5)]: Done 190 tasks      | elapsed: 148.4min\n",
      "[Parallel(n_jobs=5)]: Done 211 tasks      | elapsed: 168.4min\n",
      "[Parallel(n_jobs=5)]: Done 232 tasks      | elapsed: 185.9min\n",
      "[Parallel(n_jobs=5)]: Done 255 tasks      | elapsed: 199.2min\n",
      "[Parallel(n_jobs=5)]: Done 278 tasks      | elapsed: 219.4min\n",
      "[Parallel(n_jobs=5)]: Done 303 tasks      | elapsed: 242.0min\n",
      "[Parallel(n_jobs=5)]: Done 328 tasks      | elapsed: 256.4min\n",
      "[Parallel(n_jobs=5)]: Done 355 tasks      | elapsed: 281.8min\n",
      "[Parallel(n_jobs=5)]: Done 382 tasks      | elapsed: 298.9min\n",
      "[Parallel(n_jobs=5)]: Done 411 tasks      | elapsed: 324.2min\n",
      "[Parallel(n_jobs=5)]: Done 440 tasks      | elapsed: 344.4min\n",
      "[Parallel(n_jobs=5)]: Done 471 tasks      | elapsed: 368.7min\n",
      "[Parallel(n_jobs=5)]: Done 502 tasks      | elapsed: 392.0min\n",
      "[Parallel(n_jobs=5)]: Done 535 tasks      | elapsed: 416.0min\n",
      "[Parallel(n_jobs=5)]: Done 568 tasks      | elapsed: 440.0min\n",
      "[Parallel(n_jobs=5)]: Done 603 tasks      | elapsed: 467.7min\n",
      "[Parallel(n_jobs=5)]: Done 638 tasks      | elapsed: 490.7min\n",
      "[Parallel(n_jobs=5)]: Done 675 tasks      | elapsed: 522.2min\n",
      "[Parallel(n_jobs=5)]: Done 712 tasks      | elapsed: 547.0min\n",
      "[Parallel(n_jobs=5)]: Done 751 tasks      | elapsed: 718.5min\n",
      "[Parallel(n_jobs=5)]: Done 768 out of 768 | elapsed: 725.7min finished\n"
     ]
    },
    {
     "name": "stdout",
     "output_type": "stream",
     "text": [
      "--- 43805.32000255585 seconds ---\n"
     ]
    }
   ],
   "source": [
    "# DO NOT RE RUN THIS!!!!!\n",
    "start_time = time.time()\n",
    "\n",
    "#Fit the Data\n",
    "grid.fit(X_train, y_train)\n",
    "print(\"--- %s seconds ---\" % (time.time() - start_time))"
   ]
  },
  {
   "cell_type": "code",
   "execution_count": 90,
   "metadata": {},
   "outputs": [
    {
     "data": {
      "text/plain": [
       "0.9995833430865383"
      ]
     },
     "execution_count": 90,
     "metadata": {},
     "output_type": "execute_result"
    }
   ],
   "source": [
    "grid.best_score_"
   ]
  },
  {
   "cell_type": "code",
   "execution_count": 80,
   "metadata": {},
   "outputs": [],
   "source": [
    "BP = grid.best_params_"
   ]
  },
  {
   "cell_type": "code",
   "execution_count": 99,
   "metadata": {},
   "outputs": [
    {
     "data": {
      "text/plain": [
       "{'learning_rate': 0.1,\n",
       " 'loss': 'exponential',\n",
       " 'max_depth': 2,\n",
       " 'min_samples_split': 2,\n",
       " 'min_weight_fraction_leaf': 0,\n",
       " 'n_estimators': 800,\n",
       " 'random_state': 7351,\n",
       " 'subsample': 0.8,\n",
       " 'tol': 1e-05}"
      ]
     },
     "execution_count": 99,
     "metadata": {},
     "output_type": "execute_result"
    }
   ],
   "source": [
    "BP"
   ]
  },
  {
   "cell_type": "code",
   "execution_count": 91,
   "metadata": {},
   "outputs": [],
   "source": [
    "clfb = ensemble.GradientBoostingClassifier(**BP)"
   ]
  },
  {
   "cell_type": "code",
   "execution_count": 92,
   "metadata": {},
   "outputs": [
    {
     "data": {
      "text/plain": [
       "GradientBoostingClassifier(criterion='friedman_mse', init=None,\n",
       "              learning_rate=0.1, loss='exponential', max_depth=2,\n",
       "              max_features=None, max_leaf_nodes=None,\n",
       "              min_impurity_decrease=0.0, min_impurity_split=None,\n",
       "              min_samples_leaf=1, min_samples_split=2,\n",
       "              min_weight_fraction_leaf=0, n_estimators=800,\n",
       "              n_iter_no_change=None, presort='auto', random_state=7351,\n",
       "              subsample=0.8, tol=1e-05, validation_fraction=0.1, verbose=0,\n",
       "              warm_start=False)"
      ]
     },
     "execution_count": 92,
     "metadata": {},
     "output_type": "execute_result"
    }
   ],
   "source": [
    "clfb.fit(X_train,y_train)"
   ]
  },
  {
   "cell_type": "code",
   "execution_count": 93,
   "metadata": {},
   "outputs": [],
   "source": [
    "predict_test = clfb.predict(X_test)"
   ]
  },
  {
   "cell_type": "code",
   "execution_count": 94,
   "metadata": {},
   "outputs": [
    {
     "name": "stdout",
     "output_type": "stream",
     "text": [
      "Test set accuracy:\n",
      "Percent Type I errors: 9.83118451728884e-05\n",
      "Percent Type II errors: 0.000491559225864442\n"
     ]
    }
   ],
   "source": [
    "table_test = pd.crosstab(y_test, predict_test, margins=True)\n",
    "\n",
    "test_tI_errors = table_test.loc[0.0,1.0]/table_test.loc['All','All']\n",
    "test_tII_errors = table_test.loc[1.0,0.0]/table_test.loc['All','All']\n",
    "#Type 1 Error is False positive\n",
    "#Type 2 Error is False negative\n",
    "print((\n",
    "    'Test set accuracy:\\n'\n",
    "    'Percent Type I errors: {}\\n'\n",
    "    'Percent Type II errors: {}'\n",
    ").format(test_tI_errors, test_tII_errors))"
   ]
  },
  {
   "cell_type": "code",
   "execution_count": 97,
   "metadata": {},
   "outputs": [
    {
     "name": "stdout",
     "output_type": "stream",
     "text": [
      "\n",
      " Accuracy by admission status\n",
      "col_0      0    1    All\n",
      "Class                   \n",
      "0      71056    7  71063\n",
      "1         35  104    139\n",
      "All    71091  111  71202\n",
      "\n",
      " Percentage accuracy\n",
      "0.9994101289289626\n"
     ]
    }
   ],
   "source": [
    "print('\\n Accuracy by admission status')\n",
    "print(table_test)\n",
    "\n",
    "print('\\n Percentage accuracy')\n",
    "print(clfb.score(X_test, y_test))"
   ]
  },
  {
   "cell_type": "code",
   "execution_count": 98,
   "metadata": {},
   "outputs": [
    {
     "data": {
      "text/plain": [
       "0.7482014388489209"
      ]
     },
     "execution_count": 98,
     "metadata": {},
     "output_type": "execute_result"
    }
   ],
   "source": [
    "table_test[1][1] / table_test['All'][1]"
   ]
  },
  {
   "cell_type": "code",
   "execution_count": 17,
   "metadata": {},
   "outputs": [],
   "source": [
    "clf = ensemble.GradientBoostingClassifier(learning_rate=0.01, loss='deviance', max_depth=2, min_samples_split=2, min_weight_fraction_leaf=0, n_estimators=500, random_state=7351, subsample=0.9)"
   ]
  },
  {
   "cell_type": "code",
   "execution_count": 19,
   "metadata": {},
   "outputs": [
    {
     "data": {
      "text/plain": [
       "GradientBoostingClassifier(criterion='friedman_mse', init=None,\n",
       "              learning_rate=0.01, loss='deviance', max_depth=2,\n",
       "              max_features=None, max_leaf_nodes=None,\n",
       "              min_impurity_decrease=0.0, min_impurity_split=None,\n",
       "              min_samples_leaf=1, min_samples_split=2,\n",
       "              min_weight_fraction_leaf=0, n_estimators=500,\n",
       "              n_iter_no_change=None, presort='auto', random_state=7351,\n",
       "              subsample=0.9, tol=0.0001, validation_fraction=0.1,\n",
       "              verbose=0, warm_start=False)"
      ]
     },
     "execution_count": 19,
     "metadata": {},
     "output_type": "execute_result"
    }
   ],
   "source": [
    "clf.fit(X_train, y_train)"
   ]
  },
  {
   "cell_type": "code",
   "execution_count": 36,
   "metadata": {},
   "outputs": [],
   "source": [
    "predict_test = clf.predict(X_test)"
   ]
  },
  {
   "cell_type": "code",
   "execution_count": 37,
   "metadata": {},
   "outputs": [
    {
     "name": "stdout",
     "output_type": "stream",
     "text": [
      "Test set accuracy:\n",
      "Percent Type I errors: 0.0001404454931041263\n",
      "Percent Type II errors: 0.0006741383668998062\n"
     ]
    }
   ],
   "source": [
    "table_test = pd.crosstab(y_test, predict_test, margins=True)\n",
    "\n",
    "test_tI_errors = table_test.loc[0.0,1.0]/table_test.loc['All','All']\n",
    "test_tII_errors = table_test.loc[1.0,0.0]/table_test.loc['All','All']\n",
    "#Type 1 Error is False positive\n",
    "#Type 2 Error is False negative\n",
    "print((\n",
    "    'Test set accuracy:\\n'\n",
    "    'Percent Type I errors: {}\\n'\n",
    "    'Percent Type II errors: {}'\n",
    ").format(test_tI_errors, test_tII_errors))"
   ]
  },
  {
   "cell_type": "code",
   "execution_count": 39,
   "metadata": {},
   "outputs": [
    {
     "name": "stdout",
     "output_type": "stream",
     "text": [
      "\n",
      " Accuracy by admission status\n",
      "col_0      0    1    All\n",
      "Class                   \n",
      "0      71053   10  71063\n",
      "1         48   91    139\n",
      "All    71101  101  71202\n",
      "\n",
      " Percentage accuracy\n",
      "0.9991854161399961\n"
     ]
    }
   ],
   "source": [
    "print('\\n Accuracy by admission status')\n",
    "print(table_test)\n",
    "\n",
    "print('\\n Percentage accuracy')\n",
    "print(clf.score(X_test, y_test))"
   ]
  },
  {
   "cell_type": "markdown",
   "metadata": {},
   "source": [
    "The model above it's not too shabby. It categorizes ~66% of the fraud in our test set."
   ]
  },
  {
   "cell_type": "code",
   "execution_count": 65,
   "metadata": {},
   "outputs": [
    {
     "data": {
      "text/plain": [
       "0.6546762589928058"
      ]
     },
     "execution_count": 65,
     "metadata": {},
     "output_type": "execute_result"
    }
   ],
   "source": [
    "table_test[1][1] / table_test['All'][1]"
   ]
  },
  {
   "cell_type": "code",
   "execution_count": null,
   "metadata": {},
   "outputs": [],
   "source": []
  },
  {
   "cell_type": "code",
   "execution_count": 70,
   "metadata": {},
   "outputs": [
    {
     "data": {
      "text/plain": [
       "12.168144445154402"
      ]
     },
     "execution_count": 70,
     "metadata": {},
     "output_type": "execute_result"
    }
   ],
   "source": [
    "43805.32000255585/3600"
   ]
  },
  {
   "cell_type": "code",
   "execution_count": null,
   "metadata": {},
   "outputs": [],
   "source": []
  }
 ],
 "metadata": {
  "kernelspec": {
   "display_name": "Python 3",
   "language": "python",
   "name": "python3"
  },
  "language_info": {
   "codemirror_mode": {
    "name": "ipython",
    "version": 3
   },
   "file_extension": ".py",
   "mimetype": "text/x-python",
   "name": "python",
   "nbconvert_exporter": "python",
   "pygments_lexer": "ipython3",
   "version": "3.7.2"
  }
 },
 "nbformat": 4,
 "nbformat_minor": 2
}
